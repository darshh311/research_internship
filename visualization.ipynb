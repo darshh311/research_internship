{
 "cells": [
  {
   "cell_type": "code",
   "execution_count": 2,
   "id": "b0735b21",
   "metadata": {},
   "outputs": [],
   "source": [
    "import json\n",
    "from collections import Counter\n",
    "import numpy as np\n",
    "import pandas as pd\n",
    "import operator\n",
    "import matplotlib.pyplot as plt\n",
    "from matplotlib.ticker import FuncFormatter\n",
    "from matplotlib.patches import Ellipse\n",
    "import seaborn as sns\n",
    "import networkx as nx\n",
    "import base64\n",
    "from collections import defaultdict\n",
    "import sys,os\n",
    "import math\n",
    "import random\n",
    "import csv\n",
    "import matplotlib.pylab as pyl\n",
    "import itertools\n",
    "import scipy as sp\n",
    "from scipy import stats\n",
    "from scipy import optimize\n",
    "from scipy.integrate import quad\n",
    "from mpl_toolkits.axes_grid1 import ImageGrid\n",
    "from pyts.image import GramianAngularField\n",
    "from pyts.datasets import load_gunpoint\n",
    "from pyts.image import MarkovTransitionField\n",
    "from pyts.image import RecurrencePlot\n",
    "\n",
    "\n",
    "import warnings\n",
    "warnings.filterwarnings('ignore')"
   ]
  },
  {
   "cell_type": "code",
   "execution_count": 2,
   "id": "0fdb9e5f",
   "metadata": {},
   "outputs": [],
   "source": [
    "europe = pd.read_json(\"./data/events/events_European_Championship.json\")\n",
    "# with pd.option_context('display.max_rows', None, 'display.max_columns', None):  # more options can be specified also\n",
    "#     print(europe)"
   ]
  },
  {
   "cell_type": "code",
   "execution_count": 3,
   "id": "c2a0a605",
   "metadata": {},
   "outputs": [],
   "source": [
    "def pitch():\n",
    "    #create figure\n",
    "    fig,ax=plt.subplots(figsize=(7,5))\n",
    "    \n",
    "    #Pitch Outline & Centre Line\n",
    "    plt.plot([0,0],[0,100], color=\"black\")\n",
    "    plt.plot([0,100],[100,100], color=\"black\")\n",
    "    plt.plot([100,100],[100,0], color=\"black\")\n",
    "    plt.plot([100,0],[0,0], color=\"black\")\n",
    "    plt.plot([50,50],[0,100], color=\"black\")\n",
    "\n",
    "    #Left Penalty Area\n",
    "    plt.plot([16.5,16.5],[80,20],color=\"black\")\n",
    "    plt.plot([0,16.5],[80,80],color=\"black\")\n",
    "    plt.plot([16.5,0],[20,20],color=\"black\")\n",
    "\n",
    "    #Right Penalty Area\n",
    "    plt.plot([83.5,100],[80,80],color=\"black\")\n",
    "    plt.plot([83.5,83.5],[80,20],color=\"black\")\n",
    "    plt.plot([83.5,100],[20,20],color=\"black\")\n",
    "\n",
    "    #Left 6-yard Box\n",
    "    plt.plot([0,5.5],[65,65],color=\"black\")\n",
    "    plt.plot([5.5,5.5],[65,35],color=\"black\")\n",
    "    plt.plot([5.5,0.5],[35,35],color=\"black\")\n",
    "\n",
    "    #Right 6-yard Box\n",
    "    plt.plot([100,94.5],[65,65],color=\"black\")\n",
    "    plt.plot([94.5,94.5],[65,35],color=\"black\")\n",
    "    plt.plot([94.5,100],[35,35],color=\"black\")\n",
    "\n",
    "    #Prepare Circles\n",
    "    centreCircle = Ellipse((50, 50), width=30, height=39, edgecolor=\"black\", facecolor=\"None\", lw=1.8)\n",
    "    centreSpot = Ellipse((50, 50), width=1, height=1.5, edgecolor=\"black\", facecolor=\"black\", lw=1.8)\n",
    "    leftPenSpot = Ellipse((11, 50), width=1, height=1.5, edgecolor=\"black\", facecolor=\"black\", lw=1.8)\n",
    "    rightPenSpot = Ellipse((89, 50), width=1, height=1.5, edgecolor=\"black\", facecolor=\"black\", lw=1.8)\n",
    "\n",
    "    #Draw Circles\n",
    "    ax.add_patch(centreCircle)\n",
    "    ax.add_patch(centreSpot)\n",
    "    ax.add_patch(leftPenSpot)\n",
    "    ax.add_patch(rightPenSpot)\n",
    "    \n",
    "    #limit axis\n",
    "    plt.xlim(0,100)\n",
    "    plt.ylim(0,100)\n",
    "    \n",
    "    ax.annotate(\"\", xy=(25, 5), xytext=(5, 5),\n",
    "                arrowprops=dict(arrowstyle=\"->\", linewidth=2))\n",
    "    ax.text(7,7,'Attack',fontsize=20)\n",
    "#     ax.set_facecolor(\"green\")\n",
    "\n",
    "    return fig,ax"
   ]
  },
  {
   "cell_type": "code",
   "execution_count": 4,
   "id": "1139f167",
   "metadata": {},
   "outputs": [
    {
     "data": {
      "text/plain": [
       "(<Figure size 504x360 with 1 Axes>, <AxesSubplot:>)"
      ]
     },
     "execution_count": 4,
     "metadata": {},
     "output_type": "execute_result"
    },
    {
     "data": {
      "image/png": "[encoded data removed]",
      "text/plain": [
       "<Figure size 504x360 with 1 Axes>"
      ]
     },
     "metadata": {
      "needs_background": "light"
     },
     "output_type": "display_data"
    }
   ],
   "source": [
    "pitch()"
   ]
  },
  {
   "cell_type": "code",
   "execution_count": 7,
   "id": "c0de50f6",
   "metadata": {},
   "outputs": [
    {
     "data": {
      "text/plain": [
       "'Pass'"
      ]
     },
     "execution_count": 7,
     "metadata": {},
     "output_type": "execute_result"
    }
   ],
   "source": [
    "europe['eventName'][0]"
   ]
  },
  {
   "cell_type": "code",
   "execution_count": 5,
   "id": "0192ec4f",
   "metadata": {},
   "outputs": [
    {
     "data": {
      "text/html": [
       "<div>\n",
       "<style scoped>\n",
       "    .dataframe tbody tr th:only-of-type {\n",
       "        vertical-align: middle;\n",
       "    }\n",
       "\n",
       "    .dataframe tbody tr th {\n",
       "        vertical-align: top;\n",
       "    }\n",
       "\n",
       "    .dataframe thead th {\n",
       "        text-align: right;\n",
       "    }\n",
       "</style>\n",
       "<table border=\"1\" class=\"dataframe\">\n",
       "  <thead>\n",
       "    <tr style=\"text-align: right;\">\n",
       "      <th></th>\n",
       "      <th>eventId</th>\n",
       "      <th>subEventName</th>\n",
       "      <th>tags</th>\n",
       "      <th>playerId</th>\n",
       "      <th>positions</th>\n",
       "      <th>matchId</th>\n",
       "      <th>eventName</th>\n",
       "      <th>teamId</th>\n",
       "      <th>matchPeriod</th>\n",
       "      <th>eventSec</th>\n",
       "      <th>subEventId</th>\n",
       "      <th>id</th>\n",
       "    </tr>\n",
       "  </thead>\n",
       "  <tbody>\n",
       "    <tr>\n",
       "      <th>0</th>\n",
       "      <td>8</td>\n",
       "      <td>Simple pass</td>\n",
       "      <td>[{'id': 1801}]</td>\n",
       "      <td>26010</td>\n",
       "      <td>[{'y': 48, 'x': 50}, {'y': 50, 'x': 47}]</td>\n",
       "      <td>1694390</td>\n",
       "      <td>Pass</td>\n",
       "      <td>4418</td>\n",
       "      <td>1H</td>\n",
       "      <td>1.255990</td>\n",
       "      <td>85</td>\n",
       "      <td>88178642</td>\n",
       "    </tr>\n",
       "    <tr>\n",
       "      <th>1</th>\n",
       "      <td>8</td>\n",
       "      <td>Simple pass</td>\n",
       "      <td>[{'id': 1801}]</td>\n",
       "      <td>3682</td>\n",
       "      <td>[{'y': 50, 'x': 47}, {'y': 48, 'x': 41}]</td>\n",
       "      <td>1694390</td>\n",
       "      <td>Pass</td>\n",
       "      <td>4418</td>\n",
       "      <td>1H</td>\n",
       "      <td>2.351908</td>\n",
       "      <td>85</td>\n",
       "      <td>88178643</td>\n",
       "    </tr>\n",
       "    <tr>\n",
       "      <th>2</th>\n",
       "      <td>8</td>\n",
       "      <td>Simple pass</td>\n",
       "      <td>[{'id': 1801}]</td>\n",
       "      <td>31528</td>\n",
       "      <td>[{'y': 48, 'x': 41}, {'y': 35, 'x': 32}]</td>\n",
       "      <td>1694390</td>\n",
       "      <td>Pass</td>\n",
       "      <td>4418</td>\n",
       "      <td>1H</td>\n",
       "      <td>3.241028</td>\n",
       "      <td>85</td>\n",
       "      <td>88178644</td>\n",
       "    </tr>\n",
       "    <tr>\n",
       "      <th>3</th>\n",
       "      <td>8</td>\n",
       "      <td>High pass</td>\n",
       "      <td>[{'id': 1802}]</td>\n",
       "      <td>7855</td>\n",
       "      <td>[{'y': 35, 'x': 32}, {'y': 6, 'x': 89}]</td>\n",
       "      <td>1694390</td>\n",
       "      <td>Pass</td>\n",
       "      <td>4418</td>\n",
       "      <td>1H</td>\n",
       "      <td>6.033681</td>\n",
       "      <td>83</td>\n",
       "      <td>88178645</td>\n",
       "    </tr>\n",
       "    <tr>\n",
       "      <th>4</th>\n",
       "      <td>1</td>\n",
       "      <td>Ground defending duel</td>\n",
       "      <td>[{'id': 702}, {'id': 1801}]</td>\n",
       "      <td>25437</td>\n",
       "      <td>[{'y': 6, 'x': 89}, {'y': 0, 'x': 85}]</td>\n",
       "      <td>1694390</td>\n",
       "      <td>Duel</td>\n",
       "      <td>4418</td>\n",
       "      <td>1H</td>\n",
       "      <td>13.143591</td>\n",
       "      <td>12</td>\n",
       "      <td>88178646</td>\n",
       "    </tr>\n",
       "  </tbody>\n",
       "</table>\n",
       "</div>"
      ],
      "text/plain": [
       "   eventId           subEventName                         tags  playerId  \\\n",
       "0        8            Simple pass               [{'id': 1801}]     26010   \n",
       "1        8            Simple pass               [{'id': 1801}]      3682   \n",
       "2        8            Simple pass               [{'id': 1801}]     31528   \n",
       "3        8              High pass               [{'id': 1802}]      7855   \n",
       "4        1  Ground defending duel  [{'id': 702}, {'id': 1801}]     25437   \n",
       "\n",
       "                                  positions  matchId eventName  teamId  \\\n",
       "0  [{'y': 48, 'x': 50}, {'y': 50, 'x': 47}]  1694390      Pass    4418   \n",
       "1  [{'y': 50, 'x': 47}, {'y': 48, 'x': 41}]  1694390      Pass    4418   \n",
       "2  [{'y': 48, 'x': 41}, {'y': 35, 'x': 32}]  1694390      Pass    4418   \n",
       "3   [{'y': 35, 'x': 32}, {'y': 6, 'x': 89}]  1694390      Pass    4418   \n",
       "4    [{'y': 6, 'x': 89}, {'y': 0, 'x': 85}]  1694390      Duel    4418   \n",
       "\n",
       "  matchPeriod   eventSec subEventId        id  \n",
       "0          1H   1.255990         85  88178642  \n",
       "1          1H   2.351908         85  88178643  \n",
       "2          1H   3.241028         85  88178644  \n",
       "3          1H   6.033681         83  88178645  \n",
       "4          1H  13.143591         12  88178646  "
      ]
     },
     "execution_count": 5,
     "metadata": {},
     "output_type": "execute_result"
    }
   ],
   "source": [
    "for index, rows in europe.iterrows():\n",
    "    if (rows['eventName'] == 'Goalkeeper leaving line'):\n",
    "        europe = europe.drop(index)\n",
    "europe.head()"
   ]
  },
  {
   "cell_type": "code",
   "execution_count": 6,
   "id": "ef044b12",
   "metadata": {},
   "outputs": [
    {
     "data": {
      "text/html": [
       "<div>\n",
       "<style scoped>\n",
       "    .dataframe tbody tr th:only-of-type {\n",
       "        vertical-align: middle;\n",
       "    }\n",
       "\n",
       "    .dataframe tbody tr th {\n",
       "        vertical-align: top;\n",
       "    }\n",
       "\n",
       "    .dataframe thead th {\n",
       "        text-align: right;\n",
       "    }\n",
       "</style>\n",
       "<table border=\"1\" class=\"dataframe\">\n",
       "  <thead>\n",
       "    <tr style=\"text-align: right;\">\n",
       "      <th></th>\n",
       "      <th>eventId</th>\n",
       "      <th>subEventName</th>\n",
       "      <th>tags</th>\n",
       "      <th>playerId</th>\n",
       "      <th>positions</th>\n",
       "      <th>matchId</th>\n",
       "      <th>eventName</th>\n",
       "      <th>teamId</th>\n",
       "      <th>matchPeriod</th>\n",
       "      <th>eventSec</th>\n",
       "      <th>subEventId</th>\n",
       "      <th>id</th>\n",
       "    </tr>\n",
       "  </thead>\n",
       "  <tbody>\n",
       "    <tr>\n",
       "      <th>0</th>\n",
       "      <td>8</td>\n",
       "      <td>Simple pass</td>\n",
       "      <td>[{'id': 1801}]</td>\n",
       "      <td>26010</td>\n",
       "      <td>[{'y': 48, 'x': 50}, {'y': 50, 'x': 47}]</td>\n",
       "      <td>1694390</td>\n",
       "      <td>Pass</td>\n",
       "      <td>4418</td>\n",
       "      <td>1H</td>\n",
       "      <td>1.255990</td>\n",
       "      <td>85</td>\n",
       "      <td>88178642</td>\n",
       "    </tr>\n",
       "    <tr>\n",
       "      <th>1</th>\n",
       "      <td>8</td>\n",
       "      <td>Simple pass</td>\n",
       "      <td>[{'id': 1801}]</td>\n",
       "      <td>3682</td>\n",
       "      <td>[{'y': 50, 'x': 47}, {'y': 48, 'x': 41}]</td>\n",
       "      <td>1694390</td>\n",
       "      <td>Pass</td>\n",
       "      <td>4418</td>\n",
       "      <td>1H</td>\n",
       "      <td>2.351908</td>\n",
       "      <td>85</td>\n",
       "      <td>88178643</td>\n",
       "    </tr>\n",
       "    <tr>\n",
       "      <th>2</th>\n",
       "      <td>8</td>\n",
       "      <td>Simple pass</td>\n",
       "      <td>[{'id': 1801}]</td>\n",
       "      <td>31528</td>\n",
       "      <td>[{'y': 48, 'x': 41}, {'y': 35, 'x': 32}]</td>\n",
       "      <td>1694390</td>\n",
       "      <td>Pass</td>\n",
       "      <td>4418</td>\n",
       "      <td>1H</td>\n",
       "      <td>3.241028</td>\n",
       "      <td>85</td>\n",
       "      <td>88178644</td>\n",
       "    </tr>\n",
       "    <tr>\n",
       "      <th>3</th>\n",
       "      <td>8</td>\n",
       "      <td>High pass</td>\n",
       "      <td>[{'id': 1802}]</td>\n",
       "      <td>7855</td>\n",
       "      <td>[{'y': 35, 'x': 32}, {'y': 6, 'x': 89}]</td>\n",
       "      <td>1694390</td>\n",
       "      <td>Pass</td>\n",
       "      <td>4418</td>\n",
       "      <td>1H</td>\n",
       "      <td>6.033681</td>\n",
       "      <td>83</td>\n",
       "      <td>88178645</td>\n",
       "    </tr>\n",
       "    <tr>\n",
       "      <th>4</th>\n",
       "      <td>1</td>\n",
       "      <td>Ground defending duel</td>\n",
       "      <td>[{'id': 702}, {'id': 1801}]</td>\n",
       "      <td>25437</td>\n",
       "      <td>[{'y': 6, 'x': 89}, {'y': 0, 'x': 85}]</td>\n",
       "      <td>1694390</td>\n",
       "      <td>Duel</td>\n",
       "      <td>4418</td>\n",
       "      <td>1H</td>\n",
       "      <td>13.143591</td>\n",
       "      <td>12</td>\n",
       "      <td>88178646</td>\n",
       "    </tr>\n",
       "  </tbody>\n",
       "</table>\n",
       "</div>"
      ],
      "text/plain": [
       "   eventId           subEventName                         tags  playerId  \\\n",
       "0        8            Simple pass               [{'id': 1801}]     26010   \n",
       "1        8            Simple pass               [{'id': 1801}]      3682   \n",
       "2        8            Simple pass               [{'id': 1801}]     31528   \n",
       "3        8              High pass               [{'id': 1802}]      7855   \n",
       "4        1  Ground defending duel  [{'id': 702}, {'id': 1801}]     25437   \n",
       "\n",
       "                                  positions  matchId eventName  teamId  \\\n",
       "0  [{'y': 48, 'x': 50}, {'y': 50, 'x': 47}]  1694390      Pass    4418   \n",
       "1  [{'y': 50, 'x': 47}, {'y': 48, 'x': 41}]  1694390      Pass    4418   \n",
       "2  [{'y': 48, 'x': 41}, {'y': 35, 'x': 32}]  1694390      Pass    4418   \n",
       "3   [{'y': 35, 'x': 32}, {'y': 6, 'x': 89}]  1694390      Pass    4418   \n",
       "4    [{'y': 6, 'x': 89}, {'y': 0, 'x': 85}]  1694390      Duel    4418   \n",
       "\n",
       "  matchPeriod   eventSec subEventId        id  \n",
       "0          1H   1.255990         85  88178642  \n",
       "1          1H   2.351908         85  88178643  \n",
       "2          1H   3.241028         85  88178644  \n",
       "3          1H   6.033681         83  88178645  \n",
       "4          1H  13.143591         12  88178646  "
      ]
     },
     "execution_count": 6,
     "metadata": {},
     "output_type": "execute_result"
    }
   ],
   "source": [
    "for index, rows in europe.iterrows():\n",
    "    if (rows['eventName'] == 'Save attempt'):\n",
    "        europe = europe.drop(index)\n",
    "europe.head()"
   ]
  },
  {
   "cell_type": "code",
   "execution_count": 5,
   "id": "9a6cf07e",
   "metadata": {},
   "outputs": [
    {
     "data": {
      "text/html": [
       "<div>\n",
       "<style scoped>\n",
       "    .dataframe tbody tr th:only-of-type {\n",
       "        vertical-align: middle;\n",
       "    }\n",
       "\n",
       "    .dataframe tbody tr th {\n",
       "        vertical-align: top;\n",
       "    }\n",
       "\n",
       "    .dataframe thead th {\n",
       "        text-align: right;\n",
       "    }\n",
       "</style>\n",
       "<table border=\"1\" class=\"dataframe\">\n",
       "  <thead>\n",
       "    <tr style=\"text-align: right;\">\n",
       "      <th></th>\n",
       "      <th>eventId</th>\n",
       "      <th>subEventName</th>\n",
       "      <th>tags</th>\n",
       "      <th>playerId</th>\n",
       "      <th>positions</th>\n",
       "      <th>matchId</th>\n",
       "      <th>eventName</th>\n",
       "      <th>teamId</th>\n",
       "      <th>matchPeriod</th>\n",
       "      <th>eventSec</th>\n",
       "      <th>subEventId</th>\n",
       "      <th>id</th>\n",
       "    </tr>\n",
       "  </thead>\n",
       "  <tbody>\n",
       "    <tr>\n",
       "      <th>0</th>\n",
       "      <td>8</td>\n",
       "      <td>Simple pass</td>\n",
       "      <td>[{'id': 1801}]</td>\n",
       "      <td>26010</td>\n",
       "      <td>[{'y': 48, 'x': 50}, {'y': 50, 'x': 47}]</td>\n",
       "      <td>1694390</td>\n",
       "      <td>Pass</td>\n",
       "      <td>4418</td>\n",
       "      <td>1H</td>\n",
       "      <td>1.255990</td>\n",
       "      <td>85</td>\n",
       "      <td>88178642</td>\n",
       "    </tr>\n",
       "    <tr>\n",
       "      <th>1</th>\n",
       "      <td>8</td>\n",
       "      <td>Simple pass</td>\n",
       "      <td>[{'id': 1801}]</td>\n",
       "      <td>3682</td>\n",
       "      <td>[{'y': 50, 'x': 47}, {'y': 48, 'x': 41}]</td>\n",
       "      <td>1694390</td>\n",
       "      <td>Pass</td>\n",
       "      <td>4418</td>\n",
       "      <td>1H</td>\n",
       "      <td>2.351908</td>\n",
       "      <td>85</td>\n",
       "      <td>88178643</td>\n",
       "    </tr>\n",
       "    <tr>\n",
       "      <th>2</th>\n",
       "      <td>8</td>\n",
       "      <td>Simple pass</td>\n",
       "      <td>[{'id': 1801}]</td>\n",
       "      <td>31528</td>\n",
       "      <td>[{'y': 48, 'x': 41}, {'y': 35, 'x': 32}]</td>\n",
       "      <td>1694390</td>\n",
       "      <td>Pass</td>\n",
       "      <td>4418</td>\n",
       "      <td>1H</td>\n",
       "      <td>3.241028</td>\n",
       "      <td>85</td>\n",
       "      <td>88178644</td>\n",
       "    </tr>\n",
       "    <tr>\n",
       "      <th>3</th>\n",
       "      <td>8</td>\n",
       "      <td>High pass</td>\n",
       "      <td>[{'id': 1802}]</td>\n",
       "      <td>7855</td>\n",
       "      <td>[{'y': 35, 'x': 32}, {'y': 6, 'x': 89}]</td>\n",
       "      <td>1694390</td>\n",
       "      <td>Pass</td>\n",
       "      <td>4418</td>\n",
       "      <td>1H</td>\n",
       "      <td>6.033681</td>\n",
       "      <td>83</td>\n",
       "      <td>88178645</td>\n",
       "    </tr>\n",
       "    <tr>\n",
       "      <th>4</th>\n",
       "      <td>1</td>\n",
       "      <td>Ground defending duel</td>\n",
       "      <td>[{'id': 702}, {'id': 1801}]</td>\n",
       "      <td>25437</td>\n",
       "      <td>[{'y': 6, 'x': 89}, {'y': 0, 'x': 85}]</td>\n",
       "      <td>1694390</td>\n",
       "      <td>Duel</td>\n",
       "      <td>4418</td>\n",
       "      <td>1H</td>\n",
       "      <td>13.143591</td>\n",
       "      <td>12</td>\n",
       "      <td>88178646</td>\n",
       "    </tr>\n",
       "    <tr>\n",
       "      <th>...</th>\n",
       "      <td>...</td>\n",
       "      <td>...</td>\n",
       "      <td>...</td>\n",
       "      <td>...</td>\n",
       "      <td>...</td>\n",
       "      <td>...</td>\n",
       "      <td>...</td>\n",
       "      <td>...</td>\n",
       "      <td>...</td>\n",
       "      <td>...</td>\n",
       "      <td>...</td>\n",
       "      <td>...</td>\n",
       "    </tr>\n",
       "    <tr>\n",
       "      <th>1636</th>\n",
       "      <td>8</td>\n",
       "      <td>Simple pass</td>\n",
       "      <td>[{'id': 1801}]</td>\n",
       "      <td>25804</td>\n",
       "      <td>[{'y': 54, 'x': 65}, {'y': 61, 'x': 55}]</td>\n",
       "      <td>1694390</td>\n",
       "      <td>Pass</td>\n",
       "      <td>4418</td>\n",
       "      <td>2H</td>\n",
       "      <td>2929.417413</td>\n",
       "      <td>85</td>\n",
       "      <td>88180485</td>\n",
       "    </tr>\n",
       "    <tr>\n",
       "      <th>1637</th>\n",
       "      <td>8</td>\n",
       "      <td>Simple pass</td>\n",
       "      <td>[{'id': 1801}]</td>\n",
       "      <td>7915</td>\n",
       "      <td>[{'y': 61, 'x': 55}, {'y': 76, 'x': 40}]</td>\n",
       "      <td>1694390</td>\n",
       "      <td>Pass</td>\n",
       "      <td>4418</td>\n",
       "      <td>2H</td>\n",
       "      <td>2933.820746</td>\n",
       "      <td>85</td>\n",
       "      <td>88180487</td>\n",
       "    </tr>\n",
       "    <tr>\n",
       "      <th>1638</th>\n",
       "      <td>8</td>\n",
       "      <td>Simple pass</td>\n",
       "      <td>[{'id': 1801}]</td>\n",
       "      <td>3276</td>\n",
       "      <td>[{'y': 76, 'x': 40}, {'y': 90, 'x': 52}]</td>\n",
       "      <td>1694390</td>\n",
       "      <td>Pass</td>\n",
       "      <td>4418</td>\n",
       "      <td>2H</td>\n",
       "      <td>2937.092234</td>\n",
       "      <td>85</td>\n",
       "      <td>88180488</td>\n",
       "    </tr>\n",
       "    <tr>\n",
       "      <th>1639</th>\n",
       "      <td>8</td>\n",
       "      <td>Simple pass</td>\n",
       "      <td>[{'id': 1801}]</td>\n",
       "      <td>31528</td>\n",
       "      <td>[{'y': 90, 'x': 52}, {'y': 78, 'x': 63}]</td>\n",
       "      <td>1694390</td>\n",
       "      <td>Pass</td>\n",
       "      <td>4418</td>\n",
       "      <td>2H</td>\n",
       "      <td>2938.609163</td>\n",
       "      <td>85</td>\n",
       "      <td>88180489</td>\n",
       "    </tr>\n",
       "    <tr>\n",
       "      <th>1640</th>\n",
       "      <td>8</td>\n",
       "      <td>Simple pass</td>\n",
       "      <td>[{'id': 1802}]</td>\n",
       "      <td>25804</td>\n",
       "      <td>[{'y': 78, 'x': 63}, {'y': 0, 'x': 0}]</td>\n",
       "      <td>1694390</td>\n",
       "      <td>Pass</td>\n",
       "      <td>4418</td>\n",
       "      <td>2H</td>\n",
       "      <td>2938.626480</td>\n",
       "      <td>85</td>\n",
       "      <td>88180490</td>\n",
       "    </tr>\n",
       "  </tbody>\n",
       "</table>\n",
       "<p>925 rows × 12 columns</p>\n",
       "</div>"
      ],
      "text/plain": [
       "      eventId           subEventName                         tags  playerId  \\\n",
       "0           8            Simple pass               [{'id': 1801}]     26010   \n",
       "1           8            Simple pass               [{'id': 1801}]      3682   \n",
       "2           8            Simple pass               [{'id': 1801}]     31528   \n",
       "3           8              High pass               [{'id': 1802}]      7855   \n",
       "4           1  Ground defending duel  [{'id': 702}, {'id': 1801}]     25437   \n",
       "...       ...                    ...                          ...       ...   \n",
       "1636        8            Simple pass               [{'id': 1801}]     25804   \n",
       "1637        8            Simple pass               [{'id': 1801}]      7915   \n",
       "1638        8            Simple pass               [{'id': 1801}]      3276   \n",
       "1639        8            Simple pass               [{'id': 1801}]     31528   \n",
       "1640        8            Simple pass               [{'id': 1802}]     25804   \n",
       "\n",
       "                                     positions  matchId eventName  teamId  \\\n",
       "0     [{'y': 48, 'x': 50}, {'y': 50, 'x': 47}]  1694390      Pass    4418   \n",
       "1     [{'y': 50, 'x': 47}, {'y': 48, 'x': 41}]  1694390      Pass    4418   \n",
       "2     [{'y': 48, 'x': 41}, {'y': 35, 'x': 32}]  1694390      Pass    4418   \n",
       "3      [{'y': 35, 'x': 32}, {'y': 6, 'x': 89}]  1694390      Pass    4418   \n",
       "4       [{'y': 6, 'x': 89}, {'y': 0, 'x': 85}]  1694390      Duel    4418   \n",
       "...                                        ...      ...       ...     ...   \n",
       "1636  [{'y': 54, 'x': 65}, {'y': 61, 'x': 55}]  1694390      Pass    4418   \n",
       "1637  [{'y': 61, 'x': 55}, {'y': 76, 'x': 40}]  1694390      Pass    4418   \n",
       "1638  [{'y': 76, 'x': 40}, {'y': 90, 'x': 52}]  1694390      Pass    4418   \n",
       "1639  [{'y': 90, 'x': 52}, {'y': 78, 'x': 63}]  1694390      Pass    4418   \n",
       "1640    [{'y': 78, 'x': 63}, {'y': 0, 'x': 0}]  1694390      Pass    4418   \n",
       "\n",
       "     matchPeriod     eventSec subEventId        id  \n",
       "0             1H     1.255990         85  88178642  \n",
       "1             1H     2.351908         85  88178643  \n",
       "2             1H     3.241028         85  88178644  \n",
       "3             1H     6.033681         83  88178645  \n",
       "4             1H    13.143591         12  88178646  \n",
       "...          ...          ...        ...       ...  \n",
       "1636          2H  2929.417413         85  88180485  \n",
       "1637          2H  2933.820746         85  88180487  \n",
       "1638          2H  2937.092234         85  88180488  \n",
       "1639          2H  2938.609163         85  88180489  \n",
       "1640          2H  2938.626480         85  88180490  \n",
       "\n",
       "[925 rows x 12 columns]"
      ]
     },
     "execution_count": 5,
     "metadata": {},
     "output_type": "execute_result"
    }
   ],
   "source": [
    "europe = europe.loc[europe['teamId'] == 4418]\n",
    "europe = europe.loc[europe['matchId'] == 1694390]\n",
    "europe"
   ]
  },
  {
   "cell_type": "code",
   "execution_count": 20,
   "id": "b0163d0a",
   "metadata": {},
   "outputs": [],
   "source": [
    "firsthalf = europe.loc[europe['matchPeriod'] == '1H']\n",
    "secondhalf = europe.loc[europe['matchPeriod'] == '2H']"
   ]
  },
  {
   "cell_type": "code",
   "execution_count": 28,
   "id": "513c7cd0",
   "metadata": {},
   "outputs": [],
   "source": [
    "def plot_kde_events_on_field(sample_size=10000):\n",
    "    \n",
    "    position_ev = []\n",
    "    for index, row in passing.iterrows():\n",
    "        position_ev.append([row['eventName'],row['positions'][0]['x'],row['positions'][0]['y']])\n",
    "#     print(position_ev)\n",
    "    \n",
    "    df_pos_ev = pd.DataFrame(position_ev, columns=['eventName','x','y'])\n",
    "    \n",
    "    for event in np.unique(df_pos_ev['eventName']):\n",
    "        print(event)\n",
    "        df_pos_event = df_pos_ev[df_pos_ev['eventName'] == event]\n",
    "        fig,ax = pitch()\n",
    "        if len(df_pos_event) >= 10000:\n",
    "            x_y = df_pos_event[['x','y']].sample(sample_size).astype(float)\n",
    "        else:\n",
    "            x_y = df_pos_event[['x','y']].astype(float)\n",
    "        sns.kdeplot(x_y['x'],x_y['y'], cmap = 'Greens', shade = True)\n",
    "        plt.title(event, fontsize = 30)\n",
    "        plt.xlim(-1,101)\n",
    "        plt.ylim(-1,101)\n",
    "        plt.axis('off')\n",
    "        fig.tight_layout()\n",
    "        plt.show()"
   ]
  },
  {
   "cell_type": "code",
   "execution_count": 29,
   "id": "6f2b7a2c",
   "metadata": {},
   "outputs": [
    {
     "name": "stdout",
     "output_type": "stream",
     "text": [
      "Pass\n"
     ]
    },
    {
     "data": {
      "image/png": "[encoded data removed]",
      "text/plain": [
       "<Figure size 504x360 with 1 Axes>"
      ]
     },
     "metadata": {
      "needs_background": "light"
     },
     "output_type": "display_data"
    }
   ],
   "source": [
    "plot_kde_events_on_field()"
   ]
  },
  {
   "cell_type": "code",
   "execution_count": 26,
   "id": "4223b63f",
   "metadata": {
    "scrolled": false
   },
   "outputs": [
    {
     "name": "stdout",
     "output_type": "stream",
     "text": [
      "Duel\n"
     ]
    },
    {
     "data": {
      "image/png": "[encoded data removed]",
      "text/plain": [
       "<Figure size 504x360 with 1 Axes>"
      ]
     },
     "metadata": {
      "needs_background": "light"
     },
     "output_type": "display_data"
    },
    {
     "name": "stdout",
     "output_type": "stream",
     "text": [
      "Foul\n"
     ]
    },
    {
     "data": {
      "image/png": "[encoded data removed]",
      "text/plain": [
       "<Figure size 504x360 with 1 Axes>"
      ]
     },
     "metadata": {
      "needs_background": "light"
     },
     "output_type": "display_data"
    },
    {
     "name": "stdout",
     "output_type": "stream",
     "text": [
      "Free Kick\n"
     ]
    },
    {
     "data": {
      "image/png": "[encoded data removed]",
      "text/plain": [
       "<Figure size 504x360 with 1 Axes>"
      ]
     },
     "metadata": {
      "needs_background": "light"
     },
     "output_type": "display_data"
    },
    {
     "name": "stdout",
     "output_type": "stream",
     "text": [
      "Interruption\n"
     ]
    },
    {
     "data": {
      "image/png": "[encoded data removed]",
      "text/plain": [
       "<Figure size 504x360 with 1 Axes>"
      ]
     },
     "metadata": {
      "needs_background": "light"
     },
     "output_type": "display_data"
    },
    {
     "name": "stdout",
     "output_type": "stream",
     "text": [
      "Offside\n"
     ]
    },
    {
     "data": {
      "image/png": "[encoded data removed]",
      "text/plain": [
       "<Figure size 504x360 with 1 Axes>"
      ]
     },
     "metadata": {
      "needs_background": "light"
     },
     "output_type": "display_data"
    },
    {
     "name": "stdout",
     "output_type": "stream",
     "text": [
      "Others on the ball\n"
     ]
    },
    {
     "data": {
      "image/png": "[encoded data removed]",
      "text/plain": [
       "<Figure size 504x360 with 1 Axes>"
      ]
     },
     "metadata": {
      "needs_background": "light"
     },
     "output_type": "display_data"
    },
    {
     "name": "stdout",
     "output_type": "stream",
     "text": [
      "Pass\n"
     ]
    },
    {
     "data": {
      "image/png": "[encoded data removed]",
      "text/plain": [
       "<Figure size 504x360 with 1 Axes>"
      ]
     },
     "metadata": {
      "needs_background": "light"
     },
     "output_type": "display_data"
    },
    {
     "name": "stdout",
     "output_type": "stream",
     "text": [
      "Shot\n"
     ]
    },
    {
     "data": {
      "image/png": "[encoded data removed]",
      "text/plain": [
       "<Figure size 504x360 with 1 Axes>"
      ]
     },
     "metadata": {
      "needs_background": "light"
     },
     "output_type": "display_data"
    }
   ],
   "source": [
    "plot_kde_events_on_field()"
   ]
  },
  {
   "cell_type": "code",
   "execution_count": 12,
   "id": "c61de159",
   "metadata": {},
   "outputs": [
    {
     "data": {
      "text/html": [
       "<div>\n",
       "<style scoped>\n",
       "    .dataframe tbody tr th:only-of-type {\n",
       "        vertical-align: middle;\n",
       "    }\n",
       "\n",
       "    .dataframe tbody tr th {\n",
       "        vertical-align: top;\n",
       "    }\n",
       "\n",
       "    .dataframe thead th {\n",
       "        text-align: right;\n",
       "    }\n",
       "</style>\n",
       "<table border=\"1\" class=\"dataframe\">\n",
       "  <thead>\n",
       "    <tr style=\"text-align: right;\">\n",
       "      <th></th>\n",
       "      <th>eventId</th>\n",
       "      <th>subEventName</th>\n",
       "      <th>tags</th>\n",
       "      <th>playerId</th>\n",
       "      <th>positions</th>\n",
       "      <th>matchId</th>\n",
       "      <th>eventName</th>\n",
       "      <th>teamId</th>\n",
       "      <th>matchPeriod</th>\n",
       "      <th>eventSec</th>\n",
       "      <th>subEventId</th>\n",
       "      <th>id</th>\n",
       "    </tr>\n",
       "  </thead>\n",
       "  <tbody>\n",
       "    <tr>\n",
       "      <th>0</th>\n",
       "      <td>8</td>\n",
       "      <td>Simple pass</td>\n",
       "      <td>[{'id': 1801}]</td>\n",
       "      <td>26010</td>\n",
       "      <td>[{'y': 48, 'x': 50}, {'y': 50, 'x': 47}]</td>\n",
       "      <td>1694390</td>\n",
       "      <td>Pass</td>\n",
       "      <td>4418</td>\n",
       "      <td>1H</td>\n",
       "      <td>1.255990</td>\n",
       "      <td>85</td>\n",
       "      <td>88178642</td>\n",
       "    </tr>\n",
       "    <tr>\n",
       "      <th>1</th>\n",
       "      <td>8</td>\n",
       "      <td>Simple pass</td>\n",
       "      <td>[{'id': 1801}]</td>\n",
       "      <td>3682</td>\n",
       "      <td>[{'y': 50, 'x': 47}, {'y': 48, 'x': 41}]</td>\n",
       "      <td>1694390</td>\n",
       "      <td>Pass</td>\n",
       "      <td>4418</td>\n",
       "      <td>1H</td>\n",
       "      <td>2.351908</td>\n",
       "      <td>85</td>\n",
       "      <td>88178643</td>\n",
       "    </tr>\n",
       "    <tr>\n",
       "      <th>2</th>\n",
       "      <td>8</td>\n",
       "      <td>Simple pass</td>\n",
       "      <td>[{'id': 1801}]</td>\n",
       "      <td>31528</td>\n",
       "      <td>[{'y': 48, 'x': 41}, {'y': 35, 'x': 32}]</td>\n",
       "      <td>1694390</td>\n",
       "      <td>Pass</td>\n",
       "      <td>4418</td>\n",
       "      <td>1H</td>\n",
       "      <td>3.241028</td>\n",
       "      <td>85</td>\n",
       "      <td>88178644</td>\n",
       "    </tr>\n",
       "    <tr>\n",
       "      <th>3</th>\n",
       "      <td>8</td>\n",
       "      <td>High pass</td>\n",
       "      <td>[{'id': 1802}]</td>\n",
       "      <td>7855</td>\n",
       "      <td>[{'y': 35, 'x': 32}, {'y': 6, 'x': 89}]</td>\n",
       "      <td>1694390</td>\n",
       "      <td>Pass</td>\n",
       "      <td>4418</td>\n",
       "      <td>1H</td>\n",
       "      <td>6.033681</td>\n",
       "      <td>83</td>\n",
       "      <td>88178645</td>\n",
       "    </tr>\n",
       "    <tr>\n",
       "      <th>4</th>\n",
       "      <td>1</td>\n",
       "      <td>Ground defending duel</td>\n",
       "      <td>[{'id': 702}, {'id': 1801}]</td>\n",
       "      <td>25437</td>\n",
       "      <td>[{'y': 6, 'x': 89}, {'y': 0, 'x': 85}]</td>\n",
       "      <td>1694390</td>\n",
       "      <td>Duel</td>\n",
       "      <td>4418</td>\n",
       "      <td>1H</td>\n",
       "      <td>13.143591</td>\n",
       "      <td>12</td>\n",
       "      <td>88178646</td>\n",
       "    </tr>\n",
       "  </tbody>\n",
       "</table>\n",
       "</div>"
      ],
      "text/plain": [
       "   eventId           subEventName                         tags  playerId  \\\n",
       "0        8            Simple pass               [{'id': 1801}]     26010   \n",
       "1        8            Simple pass               [{'id': 1801}]      3682   \n",
       "2        8            Simple pass               [{'id': 1801}]     31528   \n",
       "3        8              High pass               [{'id': 1802}]      7855   \n",
       "4        1  Ground defending duel  [{'id': 702}, {'id': 1801}]     25437   \n",
       "\n",
       "                                  positions  matchId eventName  teamId  \\\n",
       "0  [{'y': 48, 'x': 50}, {'y': 50, 'x': 47}]  1694390      Pass    4418   \n",
       "1  [{'y': 50, 'x': 47}, {'y': 48, 'x': 41}]  1694390      Pass    4418   \n",
       "2  [{'y': 48, 'x': 41}, {'y': 35, 'x': 32}]  1694390      Pass    4418   \n",
       "3   [{'y': 35, 'x': 32}, {'y': 6, 'x': 89}]  1694390      Pass    4418   \n",
       "4    [{'y': 6, 'x': 89}, {'y': 0, 'x': 85}]  1694390      Duel    4418   \n",
       "\n",
       "  matchPeriod   eventSec subEventId        id  \n",
       "0          1H   1.255990         85  88178642  \n",
       "1          1H   2.351908         85  88178643  \n",
       "2          1H   3.241028         85  88178644  \n",
       "3          1H   6.033681         83  88178645  \n",
       "4          1H  13.143591         12  88178646  "
      ]
     },
     "execution_count": 12,
     "metadata": {},
     "output_type": "execute_result"
    }
   ],
   "source": [
    "europe.head()"
   ]
  },
  {
   "cell_type": "code",
   "execution_count": 6,
   "id": "9a7a79e5",
   "metadata": {},
   "outputs": [],
   "source": [
    "passing = europe.loc[europe['eventName'] == 'Pass']\n",
    "duel = europe.loc[europe['eventName'] == 'Duel']\n",
    "shot = europe.loc[europe['eventName'] == 'Shot']\n",
    "defence = europe.loc[europe['eventName'] == 'Others on the ball']"
   ]
  },
  {
   "cell_type": "code",
   "execution_count": 7,
   "id": "a4951cbe",
   "metadata": {},
   "outputs": [
    {
     "data": {
      "text/html": [
       "<div>\n",
       "<style scoped>\n",
       "    .dataframe tbody tr th:only-of-type {\n",
       "        vertical-align: middle;\n",
       "    }\n",
       "\n",
       "    .dataframe tbody tr th {\n",
       "        vertical-align: top;\n",
       "    }\n",
       "\n",
       "    .dataframe thead th {\n",
       "        text-align: right;\n",
       "    }\n",
       "</style>\n",
       "<table border=\"1\" class=\"dataframe\">\n",
       "  <thead>\n",
       "    <tr style=\"text-align: right;\">\n",
       "      <th></th>\n",
       "      <th>eventId</th>\n",
       "      <th>subEventName</th>\n",
       "      <th>tags</th>\n",
       "      <th>playerId</th>\n",
       "      <th>positions</th>\n",
       "      <th>matchId</th>\n",
       "      <th>eventName</th>\n",
       "      <th>teamId</th>\n",
       "      <th>matchPeriod</th>\n",
       "      <th>eventSec</th>\n",
       "      <th>subEventId</th>\n",
       "      <th>id</th>\n",
       "    </tr>\n",
       "  </thead>\n",
       "  <tbody>\n",
       "    <tr>\n",
       "      <th>0</th>\n",
       "      <td>8</td>\n",
       "      <td>Simple pass</td>\n",
       "      <td>[{'id': 1801}]</td>\n",
       "      <td>26010</td>\n",
       "      <td>[{'y': 48, 'x': 50}, {'y': 50, 'x': 47}]</td>\n",
       "      <td>1694390</td>\n",
       "      <td>Pass</td>\n",
       "      <td>4418</td>\n",
       "      <td>1H</td>\n",
       "      <td>1.255990</td>\n",
       "      <td>85</td>\n",
       "      <td>88178642</td>\n",
       "    </tr>\n",
       "    <tr>\n",
       "      <th>1</th>\n",
       "      <td>8</td>\n",
       "      <td>Simple pass</td>\n",
       "      <td>[{'id': 1801}]</td>\n",
       "      <td>3682</td>\n",
       "      <td>[{'y': 50, 'x': 47}, {'y': 48, 'x': 41}]</td>\n",
       "      <td>1694390</td>\n",
       "      <td>Pass</td>\n",
       "      <td>4418</td>\n",
       "      <td>1H</td>\n",
       "      <td>2.351908</td>\n",
       "      <td>85</td>\n",
       "      <td>88178643</td>\n",
       "    </tr>\n",
       "    <tr>\n",
       "      <th>2</th>\n",
       "      <td>8</td>\n",
       "      <td>Simple pass</td>\n",
       "      <td>[{'id': 1801}]</td>\n",
       "      <td>31528</td>\n",
       "      <td>[{'y': 48, 'x': 41}, {'y': 35, 'x': 32}]</td>\n",
       "      <td>1694390</td>\n",
       "      <td>Pass</td>\n",
       "      <td>4418</td>\n",
       "      <td>1H</td>\n",
       "      <td>3.241028</td>\n",
       "      <td>85</td>\n",
       "      <td>88178644</td>\n",
       "    </tr>\n",
       "    <tr>\n",
       "      <th>3</th>\n",
       "      <td>8</td>\n",
       "      <td>High pass</td>\n",
       "      <td>[{'id': 1802}]</td>\n",
       "      <td>7855</td>\n",
       "      <td>[{'y': 35, 'x': 32}, {'y': 6, 'x': 89}]</td>\n",
       "      <td>1694390</td>\n",
       "      <td>Pass</td>\n",
       "      <td>4418</td>\n",
       "      <td>1H</td>\n",
       "      <td>6.033681</td>\n",
       "      <td>83</td>\n",
       "      <td>88178645</td>\n",
       "    </tr>\n",
       "    <tr>\n",
       "      <th>23</th>\n",
       "      <td>8</td>\n",
       "      <td>Head pass</td>\n",
       "      <td>[{'id': 1401}, {'id': 1802}]</td>\n",
       "      <td>7855</td>\n",
       "      <td>[{'y': 16, 'x': 34}, {'y': 17, 'x': 39}]</td>\n",
       "      <td>1694390</td>\n",
       "      <td>Pass</td>\n",
       "      <td>4418</td>\n",
       "      <td>1H</td>\n",
       "      <td>81.678003</td>\n",
       "      <td>82</td>\n",
       "      <td>88178657</td>\n",
       "    </tr>\n",
       "  </tbody>\n",
       "</table>\n",
       "</div>"
      ],
      "text/plain": [
       "    eventId subEventName                          tags  playerId  \\\n",
       "0         8  Simple pass                [{'id': 1801}]     26010   \n",
       "1         8  Simple pass                [{'id': 1801}]      3682   \n",
       "2         8  Simple pass                [{'id': 1801}]     31528   \n",
       "3         8    High pass                [{'id': 1802}]      7855   \n",
       "23        8    Head pass  [{'id': 1401}, {'id': 1802}]      7855   \n",
       "\n",
       "                                   positions  matchId eventName  teamId  \\\n",
       "0   [{'y': 48, 'x': 50}, {'y': 50, 'x': 47}]  1694390      Pass    4418   \n",
       "1   [{'y': 50, 'x': 47}, {'y': 48, 'x': 41}]  1694390      Pass    4418   \n",
       "2   [{'y': 48, 'x': 41}, {'y': 35, 'x': 32}]  1694390      Pass    4418   \n",
       "3    [{'y': 35, 'x': 32}, {'y': 6, 'x': 89}]  1694390      Pass    4418   \n",
       "23  [{'y': 16, 'x': 34}, {'y': 17, 'x': 39}]  1694390      Pass    4418   \n",
       "\n",
       "   matchPeriod   eventSec subEventId        id  \n",
       "0           1H   1.255990         85  88178642  \n",
       "1           1H   2.351908         85  88178643  \n",
       "2           1H   3.241028         85  88178644  \n",
       "3           1H   6.033681         83  88178645  \n",
       "23          1H  81.678003         82  88178657  "
      ]
     },
     "execution_count": 7,
     "metadata": {},
     "output_type": "execute_result"
    }
   ],
   "source": [
    "passing.head()"
   ]
  },
  {
   "cell_type": "code",
   "execution_count": 7,
   "id": "1df3a0ae",
   "metadata": {},
   "outputs": [
    {
     "data": {
      "text/plain": [
       "(260, 13)"
      ]
     },
     "execution_count": 7,
     "metadata": {},
     "output_type": "execute_result"
    }
   ],
   "source": [
    "duel.reset_index(inplace=True)\n",
    "duel.shape"
   ]
  },
  {
   "cell_type": "code",
   "execution_count": 8,
   "id": "f9e75e4e",
   "metadata": {},
   "outputs": [
    {
     "name": "stdout",
     "output_type": "stream",
     "text": [
      "[1, 2, 3, 4, 5, 6, 7, 8, 9, 10, 11, 12, 13, 14, 15, 16, 17, 18, 19, 20, 21, 22, 23, 24, 25, 26, 27, 28, 29, 30, 31, 32, 33, 34, 35, 36, 37, 38, 39, 40, 41, 42, 43, 44, 45, 46, 47, 48, 49, 50, 51, 52, 53, 54, 55, 56, 57, 58, 59, 60, 61, 62, 63, 64, 65, 66, 67, 68, 69, 70, 71, 72, 73, 74, 75, 76, 77, 78, 79, 80, 81, 82, 83, 84, 85, 86, 87, 88, 89, 90, 91, 92, 93, 94, 95, 96, 97, 98, 99, 100, 101, 102, 103, 104, 105, 106, 107, 108, 109, 110, 111, 112, 113, 114, 115, 116, 117, 118, 119, 120, 121, 122, 123, 124, 125, 126, 127, 128, 129, 130, 131, 132, 133, 134, 135, 136, 137, 138, 139, 140, 141, 142, 143, 144, 145, 146, 147, 148, 149, 150, 151, 152, 153, 154, 155, 156, 157, 158, 159, 160, 161, 162, 163, 164, 165, 166, 167, 168, 169, 170, 171, 172, 173, 174, 175, 176, 177, 178, 179, 180, 181, 182, 183, 184, 185, 186, 187, 188, 189, 190, 191, 192, 193, 194, 195, 196, 197, 198, 199, 200, 201, 202, 203, 204, 205, 206, 207, 208, 209, 210, 211, 212, 213, 214, 215, 216, 217, 218, 219, 220, 221, 222, 223, 224, 225, 226, 227, 228, 229, 230, 231, 232, 233, 234, 235, 236, 237, 238, 239, 240, 241, 242, 243, 244, 245, 246, 247, 248, 249, 250, 251, 252, 253, 254, 255, 256, 257, 258, 259, 260]\n"
     ]
    }
   ],
   "source": [
    "a = [1]\n",
    "count = 2\n",
    "for i in range(259):\n",
    "    a.append(count)\n",
    "    count = count + 1\n",
    "print(a)"
   ]
  },
  {
   "cell_type": "code",
   "execution_count": 9,
   "id": "32c6222e",
   "metadata": {},
   "outputs": [
    {
     "name": "stdout",
     "output_type": "stream",
     "text": [
      "260\n",
      "[13.143591000000015, 54.44245000000001, 106.28128400000003, 107.614598, 172.10959400000002, 182.8045400000001, 219.2701750000001, 221.8401550000001, 224.289401, 247.2044350000001, 311.6926000000001, 314.02753699999994, 326.34702300000004, 334.6033379999999, 378.244829, 383.35462299999995, 391.17327, 439.04423799999995, 441.36678600000005, 470.4340360000001, 488.2058400000001, 502.35179100000005, 514.488159, 595.659302, 638.59115, 675.7811650000001, 681.732424, 692.127356, 693.2983959999999, 765.121363, 766.9417109999999, 776.372938, 789.149811, 847.9413790000001, 884.8537819999999, 922.309293, 925.004389, 954.5993960000001, 955.966142, 974.6187970000001, 981.7880540000001, 983.1350359999999, 1011.40274, 1013.6041849999999, 1057.781283, 1059.308398, 1097.394747, 1107.30656, 1132.925437, 1160.744405, 1197.708834, 1214.050624, 1215.797024, 1252.9264130000001, 1254.7808570000002, 1294.662284, 1311.471066, 1385.9686120000001, 1394.848364, 1395.941616, 1399.9195490000002, 1409.8957380000002, 1586.365487, 1607.8314599999999, 1642.9296129999998, 1661.9220919999998, 1668.1207599999998, 1670.2314299999998, 1706.656926, 1735.8331979999998, 1750.066593, 1765.2947089999998, 1872.191656, 1873.526659, 1881.3498800000002, 1883.7799719999998, 1934.916678, 1974.874687, 1981.040618, 1995.2266679999998, 1996.254214, 2041.5093539999998, 2063.989313, 2064.974678, 2067.035473, 2107.729905, 2192.502534, 2197.322717, 2206.451432, 2248.213774, 2270.409412, 2282.397602, 2381.260981, 2415.931053, 2450.246984, 2472.91047, 2473.709682, 2476.358753, 2507.965445, 2544.701325, 2556.841752, 2561.938908, 2570.615528, 2572.313699, 2613.234186, 2614.541754, 2615.680602, 2618.438197, 2650.486909, 2662.097758, 5413.862385, 5423.333087999999, 5496.474959, 5500.465005, 5505.680269, 16.716559999999845, 19.000179000000117, 20.994666999999936, 53.52287100000012, 91.96986000000015, 98.10567300000002, 104.02869099999998, 108.33524399999988, 111.11649699999998, 170.02280299999984, 181.46178099999997, 183.62884699999995, 185.99720100000013, 191.6104049999999, 197.96947200000022, 198.4431840000002, 211.6756409999998, 270.4734099999996, 275.10965099999976, 298.7974089999998, 303.75181900000007, 308.7625760000001, 310.54122499999994, 346.3530410000003, 349.36139900000035, 396.9197949999998, 443.75021300000026, 445.3368410000003, 466.30682499999966, 468.52063199999975, 572.0754340000003, 596.5837330000004, 617.0438059999997, 655.446621, 657.0261380000002, 658.4050029999999, 705.3610369999997, 711.4865390000004, 716.9823459999998, 783.9586719999998, 788.0124569999998, 818.357653, 851.4475560000001, 854.2981250000003, 938.6925010000004, 957.8226139999997, 960.5150169999997, 1001.6933989999998, 1007.1415980000002, 1012.1133229999996, 1032.959307, 1077.8711169999997, 1122.5944390000004, 1124.147465, 1258.4203530000004, 1267.4067770000001, 1268.6222209999996, 1286.3996260000004, 1326.693862, 1330.5389919999998, 1334.7307620000001, 1338.9234770000003, 1373.2458450000004, 1376.6177820000003, 1465.2767329999997, 1478.2250649999996, 1485.459213, 1507.3268319999997, 1533.3330130000004, 1557.3453280000003, 1616.5158140000003, 1621.3248210000002, 1624.6281630000003, 1698.508632, 1708.8488980000002, 1711.0700610000004, 1712.7245309999998, 1713.8727419999996, 1719.536266, 1751.5993639999997, 1754.8990210000002, 1773.0254489999998, 1801.7827909999996, 1805.7161560000004, 1811.323136, 1816.3988959999997, 1828.4241709999997, 1851.0715010000004, 1865.4250940000002, 1911.2953790000001, 1924.7442890000002, 1926.3835719999997, 1946.3910070000002, 1952.9838479999999, 2002.1529060000003, 2025.2869440000004, 2060.8255529999997, 2093.985799, 2098.501174, 2101.4553180000003, 2106.769547, 2114.070949, 2120.461254, 2123.09105, 2152.570785, 2162.177568, 2212.9161809999996, 2276.2108479999997, 2280.5395120000003, 2339.813875, 2357.9545449999996, 2365.886378, 2379.2445129999996, 2418.3230110000004, 2432.591353, 2433.744511, 2460.6740849999996, 2461.519555, 2480.2371300000004, 2481.920814, 2508.457862, 2537.818152, 2573.802375, 2577.5134550000002, 2581.644915, 2591.1348340000004, 2595.5860329999996, 2689.0936789999996, 2694.2170480000004, 5403.78584, 5408.623289, 5497.686239, 5499.283268, 5500.316595, 5501.039519, 5509.686087, 5512.434314, 5533.336237, 5535.466725, 5537.532422, 5563.035682, 5584.374433, 5588.003308, 5597.496725, 5616.819037]\n"
     ]
    }
   ],
   "source": [
    "time = []\n",
    "for index,row in duel.iterrows():\n",
    "    if row['eventSec']<2700:\n",
    "        time.append(row['eventSec'])\n",
    "    else:\n",
    "        time.append(row['eventSec'] + 2700)\n",
    "print(len(time))\n",
    "print(time)"
   ]
  },
  {
   "cell_type": "code",
   "execution_count": 10,
   "id": "a64e2034",
   "metadata": {},
   "outputs": [],
   "source": [
    "duel['count'] = a\n",
    "duel['eventSec'] = time"
   ]
  },
  {
   "cell_type": "code",
   "execution_count": 11,
   "id": "f1c2bae8",
   "metadata": {},
   "outputs": [
    {
     "data": {
      "text/html": [
       "<div>\n",
       "<style scoped>\n",
       "    .dataframe tbody tr th:only-of-type {\n",
       "        vertical-align: middle;\n",
       "    }\n",
       "\n",
       "    .dataframe tbody tr th {\n",
       "        vertical-align: top;\n",
       "    }\n",
       "\n",
       "    .dataframe thead th {\n",
       "        text-align: right;\n",
       "    }\n",
       "</style>\n",
       "<table border=\"1\" class=\"dataframe\">\n",
       "  <thead>\n",
       "    <tr style=\"text-align: right;\">\n",
       "      <th></th>\n",
       "      <th>index</th>\n",
       "      <th>eventId</th>\n",
       "      <th>subEventName</th>\n",
       "      <th>tags</th>\n",
       "      <th>playerId</th>\n",
       "      <th>positions</th>\n",
       "      <th>matchId</th>\n",
       "      <th>eventName</th>\n",
       "      <th>teamId</th>\n",
       "      <th>matchPeriod</th>\n",
       "      <th>eventSec</th>\n",
       "      <th>subEventId</th>\n",
       "      <th>id</th>\n",
       "      <th>count</th>\n",
       "    </tr>\n",
       "  </thead>\n",
       "  <tbody>\n",
       "    <tr>\n",
       "      <th>0</th>\n",
       "      <td>4</td>\n",
       "      <td>1</td>\n",
       "      <td>Ground defending duel</td>\n",
       "      <td>[{'id': 702}, {'id': 1801}]</td>\n",
       "      <td>25437</td>\n",
       "      <td>[{'y': 6, 'x': 89}, {'y': 0, 'x': 85}]</td>\n",
       "      <td>1694390</td>\n",
       "      <td>Duel</td>\n",
       "      <td>4418</td>\n",
       "      <td>1H</td>\n",
       "      <td>13.143591</td>\n",
       "      <td>12</td>\n",
       "      <td>88178646</td>\n",
       "      <td>1</td>\n",
       "    </tr>\n",
       "    <tr>\n",
       "      <th>1</th>\n",
       "      <td>15</td>\n",
       "      <td>1</td>\n",
       "      <td>Ground loose ball duel</td>\n",
       "      <td>[{'id': 701}, {'id': 1802}]</td>\n",
       "      <td>26010</td>\n",
       "      <td>[{'y': 72, 'x': 54}, {'y': 72, 'x': 56}]</td>\n",
       "      <td>1694390</td>\n",
       "      <td>Duel</td>\n",
       "      <td>4418</td>\n",
       "      <td>1H</td>\n",
       "      <td>54.442450</td>\n",
       "      <td>13</td>\n",
       "      <td>88178653</td>\n",
       "      <td>2</td>\n",
       "    </tr>\n",
       "    <tr>\n",
       "      <th>2</th>\n",
       "      <td>32</td>\n",
       "      <td>1</td>\n",
       "      <td>Ground loose ball duel</td>\n",
       "      <td>[{'id': 703}, {'id': 1801}]</td>\n",
       "      <td>7858</td>\n",
       "      <td>[{'y': 90, 'x': 23}, {'y': 83, 'x': 33}]</td>\n",
       "      <td>1694390</td>\n",
       "      <td>Duel</td>\n",
       "      <td>4418</td>\n",
       "      <td>1H</td>\n",
       "      <td>106.281284</td>\n",
       "      <td>13</td>\n",
       "      <td>88178660</td>\n",
       "      <td>3</td>\n",
       "    </tr>\n",
       "    <tr>\n",
       "      <th>3</th>\n",
       "      <td>33</td>\n",
       "      <td>1</td>\n",
       "      <td>Ground attacking duel</td>\n",
       "      <td>[{'id': 702}, {'id': 1801}]</td>\n",
       "      <td>7936</td>\n",
       "      <td>[{'y': 83, 'x': 33}, {'y': 71, 'x': 32}]</td>\n",
       "      <td>1694390</td>\n",
       "      <td>Duel</td>\n",
       "      <td>4418</td>\n",
       "      <td>1H</td>\n",
       "      <td>107.614598</td>\n",
       "      <td>11</td>\n",
       "      <td>88178661</td>\n",
       "      <td>4</td>\n",
       "    </tr>\n",
       "    <tr>\n",
       "      <th>4</th>\n",
       "      <td>45</td>\n",
       "      <td>1</td>\n",
       "      <td>Air duel</td>\n",
       "      <td>[{'id': 702}, {'id': 1801}]</td>\n",
       "      <td>7936</td>\n",
       "      <td>[{'y': 86, 'x': 57}, {'y': 100, 'x': 56}]</td>\n",
       "      <td>1694390</td>\n",
       "      <td>Duel</td>\n",
       "      <td>4418</td>\n",
       "      <td>1H</td>\n",
       "      <td>172.109594</td>\n",
       "      <td>10</td>\n",
       "      <td>88178676</td>\n",
       "      <td>5</td>\n",
       "    </tr>\n",
       "  </tbody>\n",
       "</table>\n",
       "</div>"
      ],
      "text/plain": [
       "   index  eventId            subEventName                         tags  \\\n",
       "0      4        1   Ground defending duel  [{'id': 702}, {'id': 1801}]   \n",
       "1     15        1  Ground loose ball duel  [{'id': 701}, {'id': 1802}]   \n",
       "2     32        1  Ground loose ball duel  [{'id': 703}, {'id': 1801}]   \n",
       "3     33        1   Ground attacking duel  [{'id': 702}, {'id': 1801}]   \n",
       "4     45        1                Air duel  [{'id': 702}, {'id': 1801}]   \n",
       "\n",
       "   playerId                                  positions  matchId eventName  \\\n",
       "0     25437     [{'y': 6, 'x': 89}, {'y': 0, 'x': 85}]  1694390      Duel   \n",
       "1     26010   [{'y': 72, 'x': 54}, {'y': 72, 'x': 56}]  1694390      Duel   \n",
       "2      7858   [{'y': 90, 'x': 23}, {'y': 83, 'x': 33}]  1694390      Duel   \n",
       "3      7936   [{'y': 83, 'x': 33}, {'y': 71, 'x': 32}]  1694390      Duel   \n",
       "4      7936  [{'y': 86, 'x': 57}, {'y': 100, 'x': 56}]  1694390      Duel   \n",
       "\n",
       "   teamId matchPeriod    eventSec subEventId        id  count  \n",
       "0    4418          1H   13.143591         12  88178646      1  \n",
       "1    4418          1H   54.442450         13  88178653      2  \n",
       "2    4418          1H  106.281284         13  88178660      3  \n",
       "3    4418          1H  107.614598         11  88178661      4  \n",
       "4    4418          1H  172.109594         10  88178676      5  "
      ]
     },
     "execution_count": 11,
     "metadata": {},
     "output_type": "execute_result"
    }
   ],
   "source": [
    "duel.head()"
   ]
  },
  {
   "cell_type": "code",
   "execution_count": 12,
   "id": "5938e907",
   "metadata": {},
   "outputs": [
    {
     "data": {
      "text/html": [
       "<div>\n",
       "<style scoped>\n",
       "    .dataframe tbody tr th:only-of-type {\n",
       "        vertical-align: middle;\n",
       "    }\n",
       "\n",
       "    .dataframe tbody tr th {\n",
       "        vertical-align: top;\n",
       "    }\n",
       "\n",
       "    .dataframe thead th {\n",
       "        text-align: right;\n",
       "    }\n",
       "</style>\n",
       "<table border=\"1\" class=\"dataframe\">\n",
       "  <thead>\n",
       "    <tr style=\"text-align: right;\">\n",
       "      <th></th>\n",
       "      <th>index</th>\n",
       "      <th>eventId</th>\n",
       "      <th>subEventName</th>\n",
       "      <th>tags</th>\n",
       "      <th>playerId</th>\n",
       "      <th>positions</th>\n",
       "      <th>matchId</th>\n",
       "      <th>eventName</th>\n",
       "      <th>teamId</th>\n",
       "      <th>matchPeriod</th>\n",
       "      <th>eventSec</th>\n",
       "      <th>subEventId</th>\n",
       "      <th>id</th>\n",
       "      <th>count</th>\n",
       "    </tr>\n",
       "  </thead>\n",
       "  <tbody>\n",
       "    <tr>\n",
       "      <th>255</th>\n",
       "      <td>1612</td>\n",
       "      <td>1</td>\n",
       "      <td>Air duel</td>\n",
       "      <td>[{'id': 1901}, {'id': 702}, {'id': 1801}]</td>\n",
       "      <td>231139</td>\n",
       "      <td>[{'y': 44, 'x': 30}, {'y': 61, 'x': 20}]</td>\n",
       "      <td>1694390</td>\n",
       "      <td>Duel</td>\n",
       "      <td>4418</td>\n",
       "      <td>2H</td>\n",
       "      <td>5563.035682</td>\n",
       "      <td>10</td>\n",
       "      <td>88180453</td>\n",
       "      <td>256</td>\n",
       "    </tr>\n",
       "    <tr>\n",
       "      <th>256</th>\n",
       "      <td>1618</td>\n",
       "      <td>1</td>\n",
       "      <td>Air duel</td>\n",
       "      <td>[{'id': 703}, {'id': 1801}]</td>\n",
       "      <td>7855</td>\n",
       "      <td>[{'y': 42, 'x': 31}, {'y': 39, 'x': 31}]</td>\n",
       "      <td>1694390</td>\n",
       "      <td>Duel</td>\n",
       "      <td>4418</td>\n",
       "      <td>2H</td>\n",
       "      <td>5584.374433</td>\n",
       "      <td>10</td>\n",
       "      <td>88180463</td>\n",
       "      <td>257</td>\n",
       "    </tr>\n",
       "    <tr>\n",
       "      <th>257</th>\n",
       "      <td>1620</td>\n",
       "      <td>1</td>\n",
       "      <td>Ground loose ball duel</td>\n",
       "      <td>[{'id': 703}, {'id': 1801}]</td>\n",
       "      <td>7915</td>\n",
       "      <td>[{'y': 17, 'x': 34}, {'y': 10, 'x': 31}]</td>\n",
       "      <td>1694390</td>\n",
       "      <td>Duel</td>\n",
       "      <td>4418</td>\n",
       "      <td>2H</td>\n",
       "      <td>5588.003308</td>\n",
       "      <td>13</td>\n",
       "      <td>88180466</td>\n",
       "      <td>258</td>\n",
       "    </tr>\n",
       "    <tr>\n",
       "      <th>258</th>\n",
       "      <td>1624</td>\n",
       "      <td>1</td>\n",
       "      <td>Ground attacking duel</td>\n",
       "      <td>[{'id': 501}, {'id': 703}, {'id': 1801}]</td>\n",
       "      <td>231139</td>\n",
       "      <td>[{'y': 54, 'x': 68}, {'y': 76, 'x': 74}]</td>\n",
       "      <td>1694390</td>\n",
       "      <td>Duel</td>\n",
       "      <td>4418</td>\n",
       "      <td>2H</td>\n",
       "      <td>5597.496725</td>\n",
       "      <td>11</td>\n",
       "      <td>88180469</td>\n",
       "      <td>259</td>\n",
       "    </tr>\n",
       "    <tr>\n",
       "      <th>259</th>\n",
       "      <td>1632</td>\n",
       "      <td>1</td>\n",
       "      <td>Ground attacking duel</td>\n",
       "      <td>[{'id': 501}, {'id': 703}, {'id': 1801}]</td>\n",
       "      <td>231139</td>\n",
       "      <td>[{'y': 52, 'x': 70}, {'y': 74, 'x': 69}]</td>\n",
       "      <td>1694390</td>\n",
       "      <td>Duel</td>\n",
       "      <td>4418</td>\n",
       "      <td>2H</td>\n",
       "      <td>5616.819037</td>\n",
       "      <td>11</td>\n",
       "      <td>88180478</td>\n",
       "      <td>260</td>\n",
       "    </tr>\n",
       "  </tbody>\n",
       "</table>\n",
       "</div>"
      ],
      "text/plain": [
       "     index  eventId            subEventName  \\\n",
       "255   1612        1                Air duel   \n",
       "256   1618        1                Air duel   \n",
       "257   1620        1  Ground loose ball duel   \n",
       "258   1624        1   Ground attacking duel   \n",
       "259   1632        1   Ground attacking duel   \n",
       "\n",
       "                                          tags  playerId  \\\n",
       "255  [{'id': 1901}, {'id': 702}, {'id': 1801}]    231139   \n",
       "256                [{'id': 703}, {'id': 1801}]      7855   \n",
       "257                [{'id': 703}, {'id': 1801}]      7915   \n",
       "258   [{'id': 501}, {'id': 703}, {'id': 1801}]    231139   \n",
       "259   [{'id': 501}, {'id': 703}, {'id': 1801}]    231139   \n",
       "\n",
       "                                    positions  matchId eventName  teamId  \\\n",
       "255  [{'y': 44, 'x': 30}, {'y': 61, 'x': 20}]  1694390      Duel    4418   \n",
       "256  [{'y': 42, 'x': 31}, {'y': 39, 'x': 31}]  1694390      Duel    4418   \n",
       "257  [{'y': 17, 'x': 34}, {'y': 10, 'x': 31}]  1694390      Duel    4418   \n",
       "258  [{'y': 54, 'x': 68}, {'y': 76, 'x': 74}]  1694390      Duel    4418   \n",
       "259  [{'y': 52, 'x': 70}, {'y': 74, 'x': 69}]  1694390      Duel    4418   \n",
       "\n",
       "    matchPeriod     eventSec subEventId        id  count  \n",
       "255          2H  5563.035682         10  88180453    256  \n",
       "256          2H  5584.374433         10  88180463    257  \n",
       "257          2H  5588.003308         13  88180466    258  \n",
       "258          2H  5597.496725         11  88180469    259  \n",
       "259          2H  5616.819037         11  88180478    260  "
      ]
     },
     "execution_count": 12,
     "metadata": {},
     "output_type": "execute_result"
    }
   ],
   "source": [
    "duel.tail()"
   ]
  },
  {
   "cell_type": "code",
   "execution_count": 13,
   "id": "b9668eee",
   "metadata": {},
   "outputs": [],
   "source": [
    "x = [duel['eventSec'], duel['count']]\n",
    "y = duel['count']"
   ]
  },
  {
   "cell_type": "code",
   "execution_count": 17,
   "id": "eb459db1",
   "metadata": {},
   "outputs": [
    {
     "data": {
      "text/plain": [
       "[<matplotlib.lines.Line2D at 0x14f50706160>]"
      ]
     },
     "execution_count": 17,
     "metadata": {},
     "output_type": "execute_result"
    },
    {
     "data": {
      "image/png": "[encoded data removed]",
      "text/plain": [
       "<Figure size 432x288 with 1 Axes>"
      ]
     },
     "metadata": {
      "needs_background": "light"
     },
     "output_type": "display_data"
    }
   ],
   "source": [
    "plt.plot(x,y)"
   ]
  },
  {
   "cell_type": "code",
   "execution_count": 21,
   "id": "7a22292c",
   "metadata": {},
   "outputs": [
    {
     "data": {
      "image/png": "[encoded data removed]",
      "text/plain": [
       "<Figure size 864x504 with 4 Axes>"
      ]
     },
     "metadata": {
      "needs_background": "light"
     },
     "output_type": "display_data"
    }
   ],
   "source": [
    "gasf = GramianAngularField(image_size=24, method='summation')\n",
    "X_gasf = gasf.fit_transform(x)\n",
    "\n",
    "gadf = GramianAngularField(image_size=24, method='difference')\n",
    "X_gadf = gadf.fit_transform(x)\n",
    "\n",
    "fig = plt.figure(figsize=(12, 7))\n",
    "grid = ImageGrid(fig, 111,\n",
    "                 nrows_ncols=(1, 2),\n",
    "                 axes_pad=0.15,\n",
    "                 share_all=True,\n",
    "                 cbar_location=\"right\",\n",
    "                 cbar_mode=\"single\",\n",
    "                 cbar_size=\"7%\",\n",
    "                 cbar_pad=0.3,\n",
    "                 )\n",
    "images = [X_gasf[0], X_gadf[0]]\n",
    "titles = ['Gramian Angular Summation Field',\n",
    "          'Gramian Angular Difference Field']\n",
    "for image, title, ax in zip(images, titles, grid):\n",
    "    im = ax.imshow(image, cmap='rainbow', origin='lower')\n",
    "    ax.set_title(title, fontdict={'fontsize': 16})\n",
    "ax.cax.colorbar(im)\n",
    "ax.cax.toggle_label(True)\n",
    "\n",
    "plt.suptitle('Gramian Angular Fields', y=0.92, fontsize=20)\n",
    "plt.show()"
   ]
  },
  {
   "cell_type": "code",
   "execution_count": 36,
   "id": "f3f53cad",
   "metadata": {},
   "outputs": [
    {
     "data": {
      "image/png": "[encoded data removed]",
      "text/plain": [
       "<Figure size 864x504 with 4 Axes>"
      ]
     },
     "metadata": {
      "needs_background": "light"
     },
     "output_type": "display_data"
    }
   ],
   "source": [
    "gasf = GramianAngularField(image_size=24, method='summation')\n",
    "X_gasf = gasf.fit_transform(x)\n",
    "\n",
    "gadf = GramianAngularField(image_size=24, method='difference')\n",
    "X_gadf = gadf.fit_transform(x)\n",
    "\n",
    "fig = plt.figure(figsize=(12, 7))\n",
    "grid = ImageGrid(fig, 111,\n",
    "                 nrows_ncols=(1, 2),\n",
    "                 axes_pad=0.15,\n",
    "                 share_all=True,\n",
    "                 cbar_location=\"right\",\n",
    "                 cbar_mode=\"single\",\n",
    "                 cbar_size=\"7%\",\n",
    "                 cbar_pad=0.3,\n",
    "                 )\n",
    "images = [X_gasf[0], X_gadf[0]]\n",
    "titles = ['Gramian Angular Summation Field',\n",
    "          'Gramian Angular Difference Field']\n",
    "for image, title, ax in zip(images, titles, grid):\n",
    "    im = ax.imshow(image, cmap='rainbow', origin='lower')\n",
    "    ax.set_title(title, fontdict={'fontsize': 16})\n",
    "ax.cax.colorbar(im)\n",
    "ax.cax.toggle_label(True)\n",
    "\n",
    "plt.suptitle('Gramian Angular Fields', y=0.92, fontsize=20)\n",
    "plt.show()"
   ]
  },
  {
   "cell_type": "code",
   "execution_count": 17,
   "id": "5c5ca2cf",
   "metadata": {},
   "outputs": [
    {
     "data": {
      "image/png": "[encoded data removed]",
      "text/plain": [
       "<Figure size 432x432 with 2 Axes>"
      ]
     },
     "metadata": {
      "needs_background": "light"
     },
     "output_type": "display_data"
    }
   ],
   "source": [
    "mtf = MarkovTransitionField(image_size=24)\n",
    "X_mtf = mtf.fit_transform(x)\n",
    "\n",
    "# Show the image for the first time series\n",
    "plt.figure(figsize=(6, 6))\n",
    "plt.imshow(X_mtf[0], cmap='rainbow', origin='lower')\n",
    "plt.title('Markov Transition Field', fontsize=18)\n",
    "plt.colorbar(fraction=0.0457, pad=0.04)\n",
    "plt.show()"
   ]
  },
  {
   "cell_type": "code",
   "execution_count": 19,
   "id": "43079348",
   "metadata": {},
   "outputs": [
    {
     "data": {
      "image/png": "[encoded data removed]",
      "text/plain": [
       "<Figure size 432x432 with 1 Axes>"
      ]
     },
     "metadata": {
      "needs_background": "light"
     },
     "output_type": "display_data"
    }
   ],
   "source": [
    "# Recurrence plot transformation\n",
    "rp = RecurrencePlot(threshold='point', percentage=20)\n",
    "X_rp = rp.fit_transform(x)\n",
    "\n",
    "# Show the results for the first time series\n",
    "plt.figure(figsize=(6, 6))\n",
    "plt.imshow(X_rp[0], cmap='binary', origin='lower')\n",
    "plt.title('Recurrence Plot', fontsize=18)\n",
    "plt.show()"
   ]
  },
  {
   "cell_type": "code",
   "execution_count": 10,
   "id": "535aea46",
   "metadata": {},
   "outputs": [
    {
     "data": {
      "text/plain": [
       "playerId\n",
       "3276       65\n",
       "3682       96\n",
       "7855      107\n",
       "7858      111\n",
       "7915      138\n",
       "7936      190\n",
       "7988       29\n",
       "25381       1\n",
       "25397      45\n",
       "25437     147\n",
       "25575      63\n",
       "25714     123\n",
       "25804      89\n",
       "26010     149\n",
       "31528      66\n",
       "70085       2\n",
       "134513     22\n",
       "231139    138\n",
       "Name: count, dtype: int64"
      ]
     },
     "execution_count": 10,
     "metadata": {},
     "output_type": "execute_result"
    }
   ],
   "source": [
    "duel['count'] = 1\n",
    "duel = duel.groupby(['playerId']).sum()['count']\n",
    "duel"
   ]
  },
  {
   "cell_type": "code",
   "execution_count": 11,
   "id": "589e1485",
   "metadata": {},
   "outputs": [
    {
     "data": {
      "text/plain": [
       "playerId\n",
       "3682      24\n",
       "7855       4\n",
       "7858       1\n",
       "7936      14\n",
       "7988       1\n",
       "25437      4\n",
       "25575     11\n",
       "25714     17\n",
       "25804      8\n",
       "26010     14\n",
       "31528      3\n",
       "134513     3\n",
       "231139     6\n",
       "Name: count, dtype: int64"
      ]
     },
     "execution_count": 11,
     "metadata": {},
     "output_type": "execute_result"
    }
   ],
   "source": [
    "shot['count'] = 1\n",
    "shot = shot.groupby(['playerId']).sum()['count']\n",
    "shot"
   ]
  },
  {
   "cell_type": "code",
   "execution_count": 12,
   "id": "c2980fe2",
   "metadata": {},
   "outputs": [
    {
     "data": {
      "text/plain": [
       "playerId\n",
       "3276      25\n",
       "3682      28\n",
       "7855      40\n",
       "7858      27\n",
       "7915      34\n",
       "7936      35\n",
       "7988       7\n",
       "25381     11\n",
       "25397     10\n",
       "25437     26\n",
       "25575      2\n",
       "25714     28\n",
       "25804     29\n",
       "26010     16\n",
       "31528     15\n",
       "70085      2\n",
       "134513     6\n",
       "231139    15\n",
       "Name: count, dtype: int64"
      ]
     },
     "execution_count": 12,
     "metadata": {},
     "output_type": "execute_result"
    }
   ],
   "source": [
    "defence['count'] = 1\n",
    "defence = defence.groupby(['playerId']).sum()['count']\n",
    "defence"
   ]
  },
  {
   "cell_type": "code",
   "execution_count": 3,
   "id": "83cb7650",
   "metadata": {},
   "outputs": [
    {
     "data": {
      "text/html": [
       "<div>\n",
       "<style scoped>\n",
       "    .dataframe tbody tr th:only-of-type {\n",
       "        vertical-align: middle;\n",
       "    }\n",
       "\n",
       "    .dataframe tbody tr th {\n",
       "        vertical-align: top;\n",
       "    }\n",
       "\n",
       "    .dataframe thead th {\n",
       "        text-align: right;\n",
       "    }\n",
       "</style>\n",
       "<table border=\"1\" class=\"dataframe\">\n",
       "  <thead>\n",
       "    <tr style=\"text-align: right;\">\n",
       "      <th></th>\n",
       "      <th>city</th>\n",
       "      <th>name</th>\n",
       "      <th>wyId</th>\n",
       "      <th>officialName</th>\n",
       "      <th>area</th>\n",
       "      <th>type</th>\n",
       "    </tr>\n",
       "  </thead>\n",
       "  <tbody>\n",
       "    <tr>\n",
       "      <th>137</th>\n",
       "      <td>Las Rozas</td>\n",
       "      <td>Spain</td>\n",
       "      <td>1598</td>\n",
       "      <td>Spain</td>\n",
       "      <td>{'name': 'Spain', 'id': 724, 'alpha3code': 'ES...</td>\n",
       "      <td>national</td>\n",
       "    </tr>\n",
       "    <tr>\n",
       "      <th>138</th>\n",
       "      <td>Beograd</td>\n",
       "      <td>Serbia</td>\n",
       "      <td>17322</td>\n",
       "      <td>Serbia</td>\n",
       "      <td>{'name': 'Serbia', 'id': 688, 'alpha3code': 'S...</td>\n",
       "      <td>national</td>\n",
       "    </tr>\n",
       "    <tr>\n",
       "      <th>139</th>\n",
       "      <td>Bern</td>\n",
       "      <td>Switzerland</td>\n",
       "      <td>6697</td>\n",
       "      <td>Switzerland</td>\n",
       "      <td>{'name': 'Switzerland', 'id': 756, 'alpha3code...</td>\n",
       "      <td>national</td>\n",
       "    </tr>\n",
       "    <tr>\n",
       "      <th>140</th>\n",
       "      <td>Warszawa</td>\n",
       "      <td>Poland</td>\n",
       "      <td>13869</td>\n",
       "      <td>Poland</td>\n",
       "      <td>{'name': 'Poland', 'id': 616, 'alpha3code': 'P...</td>\n",
       "      <td>national</td>\n",
       "    </tr>\n",
       "    <tr>\n",
       "      <th>141</th>\n",
       "      <td>Abuja</td>\n",
       "      <td>Nigeria</td>\n",
       "      <td>16823</td>\n",
       "      <td>Nigeria</td>\n",
       "      <td>{'name': 'Nigeria', 'id': 566, 'alpha3code': '...</td>\n",
       "      <td>national</td>\n",
       "    </tr>\n",
       "  </tbody>\n",
       "</table>\n",
       "</div>"
      ],
      "text/plain": [
       "          city         name   wyId officialName  \\\n",
       "137  Las Rozas        Spain   1598        Spain   \n",
       "138    Beograd       Serbia  17322       Serbia   \n",
       "139       Bern  Switzerland   6697  Switzerland   \n",
       "140   Warszawa       Poland  13869       Poland   \n",
       "141      Abuja      Nigeria  16823      Nigeria   \n",
       "\n",
       "                                                  area      type  \n",
       "137  {'name': 'Spain', 'id': 724, 'alpha3code': 'ES...  national  \n",
       "138  {'name': 'Serbia', 'id': 688, 'alpha3code': 'S...  national  \n",
       "139  {'name': 'Switzerland', 'id': 756, 'alpha3code...  national  \n",
       "140  {'name': 'Poland', 'id': 616, 'alpha3code': 'P...  national  \n",
       "141  {'name': 'Nigeria', 'id': 566, 'alpha3code': '...  national  "
      ]
     },
     "execution_count": 3,
     "metadata": {},
     "output_type": "execute_result"
    }
   ],
   "source": [
    "teams = pd.read_json('data/teams.json')\n",
    "teams.tail()"
   ]
  },
  {
   "cell_type": "code",
   "execution_count": 4,
   "id": "7c381ae4",
   "metadata": {},
   "outputs": [],
   "source": [
    "import os"
   ]
  },
  {
   "cell_type": "code",
   "execution_count": 8,
   "id": "b2a64ab4",
   "metadata": {},
   "outputs": [],
   "source": [
    "for index,row in teams.iterrows():\n",
    "    name = str(row['wyId'])\n",
    "    path = \"data/data/\" + name\n",
    "    if os.path.isdir(path):\n",
    "        continue\n",
    "    else:\n",
    "        os.makedirs(path)\n",
    "        os.makedirs( path + \"/GAF\")\n",
    "        os.makedirs( path + \"/MTF\")"
   ]
  },
  {
   "cell_type": "code",
   "execution_count": 35,
   "id": "6363731a",
   "metadata": {},
   "outputs": [],
   "source": [
    "temp = []"
   ]
  },
  {
   "cell_type": "code",
   "execution_count": 31,
   "id": "6a760625",
   "metadata": {},
   "outputs": [
    {
     "data": {
      "text/html": [
       "<div>\n",
       "<style scoped>\n",
       "    .dataframe tbody tr th:only-of-type {\n",
       "        vertical-align: middle;\n",
       "    }\n",
       "\n",
       "    .dataframe tbody tr th {\n",
       "        vertical-align: top;\n",
       "    }\n",
       "\n",
       "    .dataframe thead th {\n",
       "        text-align: right;\n",
       "    }\n",
       "</style>\n",
       "<table border=\"1\" class=\"dataframe\">\n",
       "  <thead>\n",
       "    <tr style=\"text-align: right;\">\n",
       "      <th></th>\n",
       "      <th>eventId</th>\n",
       "      <th>subEventName</th>\n",
       "      <th>tags</th>\n",
       "      <th>playerId</th>\n",
       "      <th>positions</th>\n",
       "      <th>matchId</th>\n",
       "      <th>eventName</th>\n",
       "      <th>teamId</th>\n",
       "      <th>matchPeriod</th>\n",
       "      <th>eventSec</th>\n",
       "      <th>subEventId</th>\n",
       "      <th>id</th>\n",
       "    </tr>\n",
       "  </thead>\n",
       "  <tbody>\n",
       "    <tr>\n",
       "      <th>0</th>\n",
       "      <td>8</td>\n",
       "      <td>Simple pass</td>\n",
       "      <td>[{'id': 1801}]</td>\n",
       "      <td>253784</td>\n",
       "      <td>[{'y': 51, 'x': 50}, {'y': 46, 'x': 31}]</td>\n",
       "      <td>2500686</td>\n",
       "      <td>Pass</td>\n",
       "      <td>3799</td>\n",
       "      <td>1H</td>\n",
       "      <td>1.935181</td>\n",
       "      <td>85</td>\n",
       "      <td>176505119</td>\n",
       "    </tr>\n",
       "    <tr>\n",
       "      <th>1</th>\n",
       "      <td>8</td>\n",
       "      <td>High pass</td>\n",
       "      <td>[{'id': 1801}]</td>\n",
       "      <td>29474</td>\n",
       "      <td>[{'y': 46, 'x': 31}, {'y': 74, 'x': 68}]</td>\n",
       "      <td>2500686</td>\n",
       "      <td>Pass</td>\n",
       "      <td>3799</td>\n",
       "      <td>1H</td>\n",
       "      <td>3.599295</td>\n",
       "      <td>83</td>\n",
       "      <td>176505121</td>\n",
       "    </tr>\n",
       "    <tr>\n",
       "      <th>2</th>\n",
       "      <td>1</td>\n",
       "      <td>Air duel</td>\n",
       "      <td>[{'id': 703}, {'id': 1801}]</td>\n",
       "      <td>253784</td>\n",
       "      <td>[{'y': 74, 'x': 68}, {'y': 54, 'x': 72}]</td>\n",
       "      <td>2500686</td>\n",
       "      <td>Duel</td>\n",
       "      <td>3799</td>\n",
       "      <td>1H</td>\n",
       "      <td>6.827043</td>\n",
       "      <td>10</td>\n",
       "      <td>176505122</td>\n",
       "    </tr>\n",
       "    <tr>\n",
       "      <th>3</th>\n",
       "      <td>1</td>\n",
       "      <td>Air duel</td>\n",
       "      <td>[{'id': 701}, {'id': 1802}]</td>\n",
       "      <td>56441</td>\n",
       "      <td>[{'y': 26, 'x': 32}, {'y': 46, 'x': 28}]</td>\n",
       "      <td>2500686</td>\n",
       "      <td>Duel</td>\n",
       "      <td>3772</td>\n",
       "      <td>1H</td>\n",
       "      <td>6.985577</td>\n",
       "      <td>10</td>\n",
       "      <td>176505017</td>\n",
       "    </tr>\n",
       "    <tr>\n",
       "      <th>4</th>\n",
       "      <td>1</td>\n",
       "      <td>Ground attacking duel</td>\n",
       "      <td>[{'id': 702}, {'id': 1801}]</td>\n",
       "      <td>366760</td>\n",
       "      <td>[{'y': 54, 'x': 72}, {'y': 55, 'x': 73}]</td>\n",
       "      <td>2500686</td>\n",
       "      <td>Duel</td>\n",
       "      <td>3799</td>\n",
       "      <td>1H</td>\n",
       "      <td>9.511272</td>\n",
       "      <td>11</td>\n",
       "      <td>176505124</td>\n",
       "    </tr>\n",
       "  </tbody>\n",
       "</table>\n",
       "</div>"
      ],
      "text/plain": [
       "   eventId           subEventName                         tags  playerId  \\\n",
       "0        8            Simple pass               [{'id': 1801}]    253784   \n",
       "1        8              High pass               [{'id': 1801}]     29474   \n",
       "2        1               Air duel  [{'id': 703}, {'id': 1801}]    253784   \n",
       "3        1               Air duel  [{'id': 701}, {'id': 1802}]     56441   \n",
       "4        1  Ground attacking duel  [{'id': 702}, {'id': 1801}]    366760   \n",
       "\n",
       "                                  positions  matchId eventName  teamId  \\\n",
       "0  [{'y': 51, 'x': 50}, {'y': 46, 'x': 31}]  2500686      Pass    3799   \n",
       "1  [{'y': 46, 'x': 31}, {'y': 74, 'x': 68}]  2500686      Pass    3799   \n",
       "2  [{'y': 74, 'x': 68}, {'y': 54, 'x': 72}]  2500686      Duel    3799   \n",
       "3  [{'y': 26, 'x': 32}, {'y': 46, 'x': 28}]  2500686      Duel    3772   \n",
       "4  [{'y': 54, 'x': 72}, {'y': 55, 'x': 73}]  2500686      Duel    3799   \n",
       "\n",
       "  matchPeriod  eventSec subEventId         id  \n",
       "0          1H  1.935181         85  176505119  \n",
       "1          1H  3.599295         83  176505121  \n",
       "2          1H  6.827043         10  176505122  \n",
       "3          1H  6.985577         10  176505017  \n",
       "4          1H  9.511272         11  176505124  "
      ]
     },
     "execution_count": 31,
     "metadata": {},
     "output_type": "execute_result"
    }
   ],
   "source": [
    "eng = pd.read_json(\"data/events/events_France.json\")\n",
    "eng.head()"
   ]
  },
  {
   "cell_type": "code",
   "execution_count": 32,
   "id": "57d60e6a",
   "metadata": {},
   "outputs": [],
   "source": [
    "eng = eng.teamId.unique()"
   ]
  },
  {
   "cell_type": "code",
   "execution_count": 37,
   "id": "2305b56d",
   "metadata": {},
   "outputs": [],
   "source": [
    "for i in range(len(eng)):\n",
    "    temp.append(eng[i])"
   ]
  },
  {
   "cell_type": "code",
   "execution_count": 38,
   "id": "3c8431ac",
   "metadata": {},
   "outputs": [
    {
     "data": {
      "text/plain": [
       "20"
      ]
     },
     "execution_count": 38,
     "metadata": {},
     "output_type": "execute_result"
    }
   ],
   "source": [
    "len(temp)"
   ]
  },
  {
   "cell_type": "code",
   "execution_count": null,
   "id": "3602da6f",
   "metadata": {},
   "outputs": [],
   "source": []
  }
 ],
 "metadata": {
  "kernelspec": {
   "display_name": "research",
   "language": "python",
   "name": "research"
  },
  "language_info": {
   "codemirror_mode": {
    "name": "ipython",
    "version": 3
   },
   "file_extension": ".py",
   "mimetype": "text/x-python",
   "name": "python",
   "nbconvert_exporter": "python",
   "pygments_lexer": "ipython3",
   "version": "3.9.7"
  }
 },
 "nbformat": 4,
 "nbformat_minor": 5
}
