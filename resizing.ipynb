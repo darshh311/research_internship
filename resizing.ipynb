{
 "cells": [
  {
   "cell_type": "code",
   "execution_count": 1,
   "id": "76c6e296",
   "metadata": {},
   "outputs": [],
   "source": [
    "import numpy as np\n",
    "import matplotlib.pyplot as plt\n",
    "\n",
    "import tensorflow as tf\n",
    "from tensorflow import keras\n",
    "from tensorflow.keras import layers\n",
    "\n",
    "import io\n",
    "import imageio\n",
    "from IPython.display import Image, display\n",
    "from ipywidgets import widgets, Layout, HBox\n",
    "import cv2\n",
    "\n",
    "from skimage import color\n",
    "from skimage import io"
   ]
  },
  {
   "cell_type": "code",
   "execution_count": 2,
   "id": "0b6585e4",
   "metadata": {},
   "outputs": [
    {
     "data": {
      "text/plain": [
       "(490, 491, 3)"
      ]
     },
     "execution_count": 2,
     "metadata": {},
     "output_type": "execute_result"
    }
   ],
   "source": [
    "path = \"data/images/win/10/2575964.jpg\"\n",
    "img = cv2.imread(path)\n",
    "img.shape"
   ]
  },
  {
   "cell_type": "code",
   "execution_count": 3,
   "id": "c8231317",
   "metadata": {},
   "outputs": [
    {
     "data": {
      "text/plain": [
       "(400, 400, 3)"
      ]
     },
     "execution_count": 3,
     "metadata": {},
     "output_type": "execute_result"
    }
   ],
   "source": [
    "dim = (400,400)\n",
    "resized = cv2.resize(img, dim, interpolation = cv2.INTER_AREA)\n",
    "resized.shape"
   ]
  },
  {
   "cell_type": "code",
   "execution_count": 89,
   "id": "b7a4dc97",
   "metadata": {},
   "outputs": [],
   "source": [
    "path = \"data/images/loss\""
   ]
  },
  {
   "cell_type": "code",
   "execution_count": 42,
   "id": "e560b49a",
   "metadata": {},
   "outputs": [
    {
     "name": "stdout",
     "output_type": "stream",
     "text": [
      "data/images/loss/10/2576295.jpg\n",
      "data/images/loss/20/2576295.jpg\n",
      "data/images/loss/30/2576295.jpg\n",
      "data/images/loss/40/2576295.jpg\n",
      "data/images/loss/50/2576295.jpg\n",
      "data/images/loss/60/2576295.jpg\n",
      "data/images/loss/70/2576295.jpg\n",
      "data/images/loss/80/2576295.jpg\n",
      "data/images/loss/90/2576295.jpg\n"
     ]
    }
   ],
   "source": [
    "a = 10\n",
    "while a<99:\n",
    "    t = str(a)\n",
    "    imgpath = path + \"/\" + t + \"/2576295.jpg\"\n",
    "    print(imgpath)\n",
    "    img = cv2.imread(imgpath)\n",
    "    resized = cv2.resize(img, dim, interpolation = cv2.INTER_AREA)\n",
    "    cv2.imwrite(imgpath, resized)\n",
    "    a = a+10\n",
    "    "
   ]
  },
  {
   "cell_type": "code",
   "execution_count": 43,
   "id": "51cbcca5",
   "metadata": {},
   "outputs": [],
   "source": [
    "rdata = []"
   ]
  },
  {
   "cell_type": "code",
   "execution_count": 92,
   "id": "bfa88d27",
   "metadata": {},
   "outputs": [],
   "source": [
    "frames = []\n",
    "a = 10\n",
    "while a<99:\n",
    "    t = str(a)\n",
    "    imgpath = path + \"/\" + t + \"/2576295.jpg\"\n",
    "    img = cv2.imread(imgpath)\n",
    "    frames.append(img)\n",
    "    a = a+10\n",
    "f = np.array(frames)\n",
    "rdata.append(f)"
   ]
  },
  {
   "cell_type": "code",
   "execution_count": 48,
   "id": "d0e2ad28",
   "metadata": {},
   "outputs": [],
   "source": [
    "f = np.array(frames)"
   ]
  },
  {
   "cell_type": "code",
   "execution_count": 53,
   "id": "9654d9b4",
   "metadata": {},
   "outputs": [
    {
     "data": {
      "text/plain": [
       "(9, 400, 400, 3)"
      ]
     },
     "execution_count": 53,
     "metadata": {},
     "output_type": "execute_result"
    }
   ],
   "source": [
    "f.shape"
   ]
  },
  {
   "cell_type": "code",
   "execution_count": 82,
   "id": "7a92673c",
   "metadata": {},
   "outputs": [
    {
     "data": {
      "text/plain": [
       "30"
      ]
     },
     "execution_count": 82,
     "metadata": {},
     "output_type": "execute_result"
    }
   ],
   "source": [
    "len(rdata)"
   ]
  },
  {
   "cell_type": "code",
   "execution_count": 83,
   "id": "0a9cac05",
   "metadata": {},
   "outputs": [
    {
     "data": {
      "text/plain": [
       "(9, 400, 400, 3)"
      ]
     },
     "execution_count": 83,
     "metadata": {},
     "output_type": "execute_result"
    }
   ],
   "source": [
    "rdata[0].shape"
   ]
  },
  {
   "cell_type": "code",
   "execution_count": 88,
   "id": "d0deeefc",
   "metadata": {},
   "outputs": [
    {
     "data": {
      "text/plain": [
       "30"
      ]
     },
     "execution_count": 88,
     "metadata": {},
     "output_type": "execute_result"
    }
   ],
   "source": [
    "len(rdata)"
   ]
  },
  {
   "cell_type": "code",
   "execution_count": 93,
   "id": "bfa8b83b",
   "metadata": {},
   "outputs": [],
   "source": [
    "temp = np.array(rdata)"
   ]
  },
  {
   "cell_type": "code",
   "execution_count": 94,
   "id": "e324e084",
   "metadata": {},
   "outputs": [
    {
     "data": {
      "text/plain": [
       "(33, 9, 400, 400, 3)"
      ]
     },
     "execution_count": 94,
     "metadata": {},
     "output_type": "execute_result"
    }
   ],
   "source": [
    "temp.shape"
   ]
  },
  {
   "cell_type": "code",
   "execution_count": 95,
   "id": "fb597391",
   "metadata": {},
   "outputs": [],
   "source": [
    "np.save(\"rdata\", temp)"
   ]
  },
  {
   "cell_type": "code",
   "execution_count": null,
   "id": "8c35596c",
   "metadata": {},
   "outputs": [],
   "source": []
  }
 ],
 "metadata": {
  "kernelspec": {
   "display_name": "research",
   "language": "python",
   "name": "research"
  },
  "language_info": {
   "codemirror_mode": {
    "name": "ipython",
    "version": 3
   },
   "file_extension": ".py",
   "mimetype": "text/x-python",
   "name": "python",
   "nbconvert_exporter": "python",
   "pygments_lexer": "ipython3",
   "version": "3.9.7"
  }
 },
 "nbformat": 4,
 "nbformat_minor": 5
}
