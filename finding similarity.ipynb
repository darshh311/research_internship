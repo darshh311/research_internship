{
 "cells": [
  {
   "cell_type": "code",
   "execution_count": 10,
   "id": "94986a13",
   "metadata": {},
   "outputs": [
    {
     "name": "stdout",
     "output_type": "stream",
     "text": [
      "Collecting opencv-contrib-python\n",
      "  Using cached opencv_contrib_python-4.6.0.66-cp36-abi3-win_amd64.whl (42.5 MB)\n",
      "Requirement already satisfied: numpy>=1.17.3 in c:\\darsh\\research internship\\research\\lib\\site-packages (from opencv-contrib-python) (1.22.4)\n",
      "Installing collected packages: opencv-contrib-python\n"
     ]
    },
    {
     "name": "stderr",
     "output_type": "stream",
     "text": [
      "ERROR: Could not install packages due to an OSError: [WinError 5] Access is denied: 'C:\\\\darsh\\\\Research Internship\\\\research\\\\Lib\\\\site-packages\\\\cv2\\\\cv2.pyd'\n",
      "Check the permissions.\n",
      "\n",
      "WARNING: You are using pip version 21.2.3; however, version 22.2.2 is available.\n",
      "You should consider upgrading via the 'C:\\darsh\\Research Internship\\research\\Scripts\\python.exe -m pip install --upgrade pip' command.\n"
     ]
    }
   ],
   "source": [
    "!pip install opencv-contrib-python\n"
   ]
  },
  {
   "cell_type": "code",
   "execution_count": 1,
   "id": "e947bce2",
   "metadata": {},
   "outputs": [],
   "source": [
    "import numpy as np\n",
    "import matplotlib.pyplot as plt\n",
    "\n",
    "import tensorflow as tf\n",
    "from tensorflow import keras\n",
    "from tensorflow.keras import layers\n",
    "\n",
    "import io\n",
    "import imageio\n",
    "from PIL import Image\n",
    "\n",
    "from ipywidgets import widgets, Layout, HBox\n",
    "import cv2\n",
    "from skimage import color\n",
    "import pandas as pd \n",
    "from skimage import io\n",
    "from skimage.metrics import structural_similarity"
   ]
  },
  {
   "cell_type": "code",
   "execution_count": 5,
   "id": "bf81288e",
   "metadata": {},
   "outputs": [],
   "source": [
    "dim = (400,400)\n"
   ]
  },
  {
   "cell_type": "code",
   "execution_count": 53,
   "id": "de5f6d74",
   "metadata": {},
   "outputs": [],
   "source": [
    "tem = cv2.imread(\"data/images/win/10/2575964.jpg\")\n",
    "gr = cv2.cvtColor(tem, cv2.COLOR_BGR2GRAY)"
   ]
  },
  {
   "cell_type": "code",
   "execution_count": 2,
   "id": "0899edc0",
   "metadata": {},
   "outputs": [],
   "source": [
    "def structural_sim(img1, img2):\n",
    "    sim, diff = structural_similarity(img1, img2, full=True)\n",
    "    return sim"
   ]
  },
  {
   "cell_type": "code",
   "execution_count": 45,
   "id": "f46e4d42",
   "metadata": {},
   "outputs": [
    {
     "data": {
      "text/plain": [
       "(400, 400, 3)"
      ]
     },
     "execution_count": 45,
     "metadata": {},
     "output_type": "execute_result"
    }
   ],
   "source": [
    "img1 = cv2.imread(original)\n",
    "img2 = cv2.imread(duplicate)\n",
    "img21 = cv2.resize(img2, dim, interpolation = cv2.INTER_AREA)\n",
    "img11 = cv2.resize(img1, dim, interpolation = cv2.INTER_AREA)\n",
    "img11.shape"
   ]
  },
  {
   "cell_type": "code",
   "execution_count": 46,
   "id": "87e1aa0f",
   "metadata": {},
   "outputs": [],
   "source": [
    "gray1 = cv2.cvtColor(img11, cv2.COLOR_BGR2GRAY)\n",
    "gray2 = cv2.cvtColor(img21, cv2.COLOR_BGR2GRAY)"
   ]
  },
  {
   "cell_type": "code",
   "execution_count": 55,
   "id": "573213f0",
   "metadata": {},
   "outputs": [
    {
     "data": {
      "text/plain": [
       "0.33347120752597736"
      ]
     },
     "execution_count": 55,
     "metadata": {},
     "output_type": "execute_result"
    }
   ],
   "source": [
    "value = structural_sim(gr, gray2)\n",
    "value"
   ]
  },
  {
   "cell_type": "code",
   "execution_count": 6,
   "id": "38880350",
   "metadata": {},
   "outputs": [],
   "source": [
    "originalwin = cv2.imread(\"data/60_juv_win_n.png\")\n",
    "originalloss = cv2.imread(\"data/60_juv_loss_new.png\")"
   ]
  },
  {
   "cell_type": "code",
   "execution_count": 7,
   "id": "fcefdc78",
   "metadata": {},
   "outputs": [
    {
     "data": {
      "text/plain": [
       "(400, 400)"
      ]
     },
     "execution_count": 7,
     "metadata": {},
     "output_type": "execute_result"
    }
   ],
   "source": [
    "originalwin = cv2.resize(originalwin, dim, interpolation = cv2.INTER_AREA)\n",
    "originalloss = cv2.resize(originalloss, dim, interpolation = cv2.INTER_AREA)\n",
    "originalwin = cv2.cvtColor(originalwin, cv2.COLOR_BGR2GRAY)\n",
    "originalloss = cv2.cvtColor(originalloss, cv2.COLOR_BGR2GRAY)\n",
    "originalloss.shape"
   ]
  },
  {
   "cell_type": "code",
   "execution_count": 8,
   "id": "b5a63d29",
   "metadata": {},
   "outputs": [],
   "source": [
    "cv2.imshow(\"x\", originalloss)"
   ]
  },
  {
   "cell_type": "code",
   "execution_count": 7,
   "id": "94a21a50",
   "metadata": {},
   "outputs": [],
   "source": [
    "test_juv_win = [2576266, 2576275, 2576302, 2576311, 2576334]\n",
    "test_juv_loss = [2576085]"
   ]
  },
  {
   "cell_type": "code",
   "execution_count": 8,
   "id": "472dfa34",
   "metadata": {},
   "outputs": [],
   "source": [
    "test_milan_win = [2576242,2576304,2576314,2576333]\n",
    "test_milan_loss = [2576252,2576289]"
   ]
  },
  {
   "cell_type": "code",
   "execution_count": 9,
   "id": "45882ae7",
   "metadata": {},
   "outputs": [],
   "source": [
    "path = \"data/images/loss/60\""
   ]
  },
  {
   "cell_type": "code",
   "execution_count": 10,
   "id": "91d03508",
   "metadata": {},
   "outputs": [],
   "source": [
    "ans = []"
   ]
  },
  {
   "cell_type": "code",
   "execution_count": 11,
   "id": "7808d986",
   "metadata": {},
   "outputs": [
    {
     "name": "stdout",
     "output_type": "stream",
     "text": [
      "data/images/loss/60/2576085.jpg\n",
      "0.25605538300450276\n",
      "0.2507287652271596\n"
     ]
    }
   ],
   "source": [
    "for i in range(len(test_juv_loss)):\n",
    "    num = str(test_juv_loss[i])\n",
    "    imgpath = path + \"/\" + num + \".jpg\" \n",
    "    print(imgpath)\n",
    "    img = cv2.imread(imgpath)\n",
    "    img = cv2.resize(img, dim, interpolation = cv2.INTER_AREA)\n",
    "    grimg = cv2.cvtColor(img, cv2.COLOR_BGR2GRAY)\n",
    "    \n",
    "    sim1 = structural_sim(grimg, originalwin)\n",
    "    print(sim1)\n",
    "    sim2 = structural_sim(grimg, originalloss)\n",
    "    print(sim2)\n",
    "    if sim1 < sim2:\n",
    "        ans.append(1)\n",
    "    else:\n",
    "        ans.append(0)\n",
    "        "
   ]
  },
  {
   "cell_type": "code",
   "execution_count": 12,
   "id": "9af0459c",
   "metadata": {},
   "outputs": [
    {
     "name": "stdout",
     "output_type": "stream",
     "text": [
      "[0]\n"
     ]
    }
   ],
   "source": [
    "print(ans)"
   ]
  },
  {
   "cell_type": "code",
   "execution_count": null,
   "id": "fae4a9e3",
   "metadata": {},
   "outputs": [],
   "source": [
    "test1 = "
   ]
  }
 ],
 "metadata": {
  "kernelspec": {
   "display_name": "research",
   "language": "python",
   "name": "research"
  },
  "language_info": {
   "codemirror_mode": {
    "name": "ipython",
    "version": 3
   },
   "file_extension": ".py",
   "mimetype": "text/x-python",
   "name": "python",
   "nbconvert_exporter": "python",
   "pygments_lexer": "ipython3",
   "version": "3.9.7"
  }
 },
 "nbformat": 4,
 "nbformat_minor": 5
}
