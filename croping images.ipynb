{
 "cells": [
  {
   "cell_type": "code",
   "execution_count": 7,
   "id": "7226de04",
   "metadata": {},
   "outputs": [],
   "source": [
    "import numpy as np\n",
    "import matplotlib.pyplot as plt\n",
    "\n",
    "import tensorflow as tf\n",
    "from tensorflow import keras\n",
    "from tensorflow.keras import layers\n",
    "\n",
    "import io\n",
    "import imageio\n",
    "from PIL import Image\n",
    "\n",
    "from ipywidgets import widgets, Layout, HBox\n",
    "import cv2\n",
    "from skimage import color\n",
    "import pandas as pd \n",
    "from skimage import io"
   ]
  },
  {
   "cell_type": "code",
   "execution_count": 12,
   "id": "e23a5acc",
   "metadata": {},
   "outputs": [],
   "source": [
    "ath = \"data/milan/loss/10/2575986.jpg\""
   ]
  },
  {
   "cell_type": "code",
   "execution_count": 16,
   "id": "a4929f38",
   "metadata": {},
   "outputs": [],
   "source": [
    "\n",
    "# Opens a image in RGB mode\n",
    "im = Image.open(ath)\n",
    " \n",
    "# Size of the image in pixels (size of original image)\n",
    "# (This is not mandatory)\n",
    "width, height = im.size\n",
    " \n",
    "# Setting the points for cropped image\n",
    "left = 87\n",
    "top = 78\n",
    "right = 578\n",
    "bottom = 568\n",
    " \n",
    "# Cropped image of above dimension\n",
    "# (It will not change original image)\n",
    "im1 = im.crop((left, top, right, bottom))\n",
    " \n",
    "# Shows the image in image viewer\n",
    "im1.show()"
   ]
  },
  {
   "cell_type": "code",
   "execution_count": 17,
   "id": "19de0b32",
   "metadata": {},
   "outputs": [],
   "source": [
    "def cropimage(imgpath):\n",
    "    im = Image.open(imgpath)\n",
    "    width, height = im.size\n",
    "    \n",
    "    left = 87\n",
    "    right = 578\n",
    "    top = 78\n",
    "    bottom = 568\n",
    "    \n",
    "    cimg = im.crop((left, top, right, bottom))\n",
    "    \n",
    "    cimg = cimg.save(imgpath)"
   ]
  },
  {
   "cell_type": "code",
   "execution_count": 47,
   "id": "eff43038",
   "metadata": {},
   "outputs": [],
   "source": [
    "a = 10\n",
    "while a <= 90:\n",
    "    number = str(a)\n",
    "    imgpath = \"data/milan/loss/\" + number + \"/2576289.jpg\"\n",
    "    cropimage(imgpath)\n",
    "    a = a + 10"
   ]
  },
  {
   "cell_type": "code",
   "execution_count": null,
   "id": "bea1c1da",
   "metadata": {},
   "outputs": [],
   "source": []
  }
 ],
 "metadata": {
  "kernelspec": {
   "display_name": "research",
   "language": "python",
   "name": "research"
  },
  "language_info": {
   "codemirror_mode": {
    "name": "ipython",
    "version": 3
   },
   "file_extension": ".py",
   "mimetype": "text/x-python",
   "name": "python",
   "nbconvert_exporter": "python",
   "pygments_lexer": "ipython3",
   "version": "3.9.7"
  }
 },
 "nbformat": 4,
 "nbformat_minor": 5
}
