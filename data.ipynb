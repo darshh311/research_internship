{
 "cells": [
  {
   "cell_type": "code",
   "execution_count": 1,
   "id": "0d482a73",
   "metadata": {},
   "outputs": [],
   "source": [
    "import os\n",
    "import pandas as pd\n",
    "import numpy as np"
   ]
  },
  {
   "cell_type": "code",
   "execution_count": 12,
   "id": "2bdd149f",
   "metadata": {},
   "outputs": [],
   "source": [
    "data = pd.read_json(\"data/events/events_Spain.json\")"
   ]
  },
  {
   "cell_type": "code",
   "execution_count": 13,
   "id": "5b57aa6c",
   "metadata": {},
   "outputs": [
    {
     "data": {
      "text/html": [
       "<div>\n",
       "<style scoped>\n",
       "    .dataframe tbody tr th:only-of-type {\n",
       "        vertical-align: middle;\n",
       "    }\n",
       "\n",
       "    .dataframe tbody tr th {\n",
       "        vertical-align: top;\n",
       "    }\n",
       "\n",
       "    .dataframe thead th {\n",
       "        text-align: right;\n",
       "    }\n",
       "</style>\n",
       "<table border=\"1\" class=\"dataframe\">\n",
       "  <thead>\n",
       "    <tr style=\"text-align: right;\">\n",
       "      <th></th>\n",
       "      <th>eventId</th>\n",
       "      <th>subEventName</th>\n",
       "      <th>tags</th>\n",
       "      <th>playerId</th>\n",
       "      <th>positions</th>\n",
       "      <th>matchId</th>\n",
       "      <th>eventName</th>\n",
       "      <th>teamId</th>\n",
       "      <th>matchPeriod</th>\n",
       "      <th>eventSec</th>\n",
       "      <th>subEventId</th>\n",
       "      <th>id</th>\n",
       "    </tr>\n",
       "  </thead>\n",
       "  <tbody>\n",
       "    <tr>\n",
       "      <th>11178</th>\n",
       "      <td>8</td>\n",
       "      <td>Simple pass</td>\n",
       "      <td>[{'id': 1801}]</td>\n",
       "      <td>3321</td>\n",
       "      <td>[{'y': 51, 'x': 48}, {'y': 36, 'x': 40}]</td>\n",
       "      <td>2565555</td>\n",
       "      <td>Pass</td>\n",
       "      <td>675</td>\n",
       "      <td>1H</td>\n",
       "      <td>1.818886</td>\n",
       "      <td>85</td>\n",
       "      <td>180467997</td>\n",
       "    </tr>\n",
       "    <tr>\n",
       "      <th>11179</th>\n",
       "      <td>8</td>\n",
       "      <td>Simple pass</td>\n",
       "      <td>[{'id': 1801}]</td>\n",
       "      <td>14723</td>\n",
       "      <td>[{'y': 36, 'x': 40}, {'y': 70, 'x': 36}]</td>\n",
       "      <td>2565555</td>\n",
       "      <td>Pass</td>\n",
       "      <td>675</td>\n",
       "      <td>1H</td>\n",
       "      <td>5.179896</td>\n",
       "      <td>85</td>\n",
       "      <td>180467998</td>\n",
       "    </tr>\n",
       "    <tr>\n",
       "      <th>11180</th>\n",
       "      <td>8</td>\n",
       "      <td>Simple pass</td>\n",
       "      <td>[{'id': 1801}]</td>\n",
       "      <td>8287</td>\n",
       "      <td>[{'y': 70, 'x': 36}, {'y': 95, 'x': 33}]</td>\n",
       "      <td>2565555</td>\n",
       "      <td>Pass</td>\n",
       "      <td>675</td>\n",
       "      <td>1H</td>\n",
       "      <td>7.318890</td>\n",
       "      <td>85</td>\n",
       "      <td>180467999</td>\n",
       "    </tr>\n",
       "    <tr>\n",
       "      <th>11181</th>\n",
       "      <td>8</td>\n",
       "      <td>Simple pass</td>\n",
       "      <td>[{'id': 1801}]</td>\n",
       "      <td>4501</td>\n",
       "      <td>[{'y': 95, 'x': 33}, {'y': 68, 'x': 38}]</td>\n",
       "      <td>2565555</td>\n",
       "      <td>Pass</td>\n",
       "      <td>675</td>\n",
       "      <td>1H</td>\n",
       "      <td>9.799903</td>\n",
       "      <td>85</td>\n",
       "      <td>180468000</td>\n",
       "    </tr>\n",
       "    <tr>\n",
       "      <th>11182</th>\n",
       "      <td>8</td>\n",
       "      <td>Simple pass</td>\n",
       "      <td>[{'id': 1801}]</td>\n",
       "      <td>8287</td>\n",
       "      <td>[{'y': 68, 'x': 38}, {'y': 36, 'x': 26}]</td>\n",
       "      <td>2565555</td>\n",
       "      <td>Pass</td>\n",
       "      <td>675</td>\n",
       "      <td>1H</td>\n",
       "      <td>11.848602</td>\n",
       "      <td>85</td>\n",
       "      <td>180468001</td>\n",
       "    </tr>\n",
       "  </tbody>\n",
       "</table>\n",
       "</div>"
      ],
      "text/plain": [
       "       eventId subEventName            tags  playerId  \\\n",
       "11178        8  Simple pass  [{'id': 1801}]      3321   \n",
       "11179        8  Simple pass  [{'id': 1801}]     14723   \n",
       "11180        8  Simple pass  [{'id': 1801}]      8287   \n",
       "11181        8  Simple pass  [{'id': 1801}]      4501   \n",
       "11182        8  Simple pass  [{'id': 1801}]      8287   \n",
       "\n",
       "                                      positions  matchId eventName  teamId  \\\n",
       "11178  [{'y': 51, 'x': 48}, {'y': 36, 'x': 40}]  2565555      Pass     675   \n",
       "11179  [{'y': 36, 'x': 40}, {'y': 70, 'x': 36}]  2565555      Pass     675   \n",
       "11180  [{'y': 70, 'x': 36}, {'y': 95, 'x': 33}]  2565555      Pass     675   \n",
       "11181  [{'y': 95, 'x': 33}, {'y': 68, 'x': 38}]  2565555      Pass     675   \n",
       "11182  [{'y': 68, 'x': 38}, {'y': 36, 'x': 26}]  2565555      Pass     675   \n",
       "\n",
       "      matchPeriod   eventSec subEventId         id  \n",
       "11178          1H   1.818886         85  180467997  \n",
       "11179          1H   5.179896         85  180467998  \n",
       "11180          1H   7.318890         85  180467999  \n",
       "11181          1H   9.799903         85  180468000  \n",
       "11182          1H  11.848602         85  180468001  "
      ]
     },
     "execution_count": 13,
     "metadata": {},
     "output_type": "execute_result"
    }
   ],
   "source": [
    "d = data.loc[data['teamId'] == 675]\n",
    "d.head()"
   ]
  },
  {
   "cell_type": "markdown",
   "id": "e3364335",
   "metadata": {},
   "source": [
    "df = pd.read_json(\"data/events/events_England.json\")\n",
    "df"
   ]
  },
  {
   "cell_type": "code",
   "execution_count": 3,
   "id": "3ff09d26",
   "metadata": {},
   "outputs": [],
   "source": [
    "firsthalf = df.loc[df['matchPeriod'] == '1H']\n",
    "secondhalf = df.loc[df['matchPeriod'] == '2H']"
   ]
  },
  {
   "cell_type": "code",
   "execution_count": 1,
   "id": "d2179cff",
   "metadata": {},
   "outputs": [],
   "source": [
    "import tensorflow as tf"
   ]
  },
  {
   "cell_type": "code",
   "execution_count": 2,
   "id": "f326f91b",
   "metadata": {},
   "outputs": [
    {
     "name": "stdout",
     "output_type": "stream",
     "text": [
      "Default GPU Device: /device:GPU:0\n"
     ]
    }
   ],
   "source": [
    "if tf.test.gpu_device_name():\n",
    "    print('Default GPU Device: {}'.format(tf.test.gpu_device_name()))\n",
    "else:\n",
    "    print(\"Please install GPU version of TF\")"
   ]
  },
  {
   "cell_type": "code",
   "execution_count": null,
   "id": "071d015d",
   "metadata": {},
   "outputs": [],
   "source": []
  }
 ],
 "metadata": {
  "kernelspec": {
   "display_name": "research",
   "language": "python",
   "name": "research"
  },
  "language_info": {
   "codemirror_mode": {
    "name": "ipython",
    "version": 3
   },
   "file_extension": ".py",
   "mimetype": "text/x-python",
   "name": "python",
   "nbconvert_exporter": "python",
   "pygments_lexer": "ipython3",
   "version": "3.9.7"
  }
 },
 "nbformat": 4,
 "nbformat_minor": 5
}
