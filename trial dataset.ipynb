{
 "cells": [
  {
   "cell_type": "code",
   "execution_count": 3,
   "id": "2f65789e",
   "metadata": {},
   "outputs": [],
   "source": [
    "import numpy as np\n",
    "import matplotlib.pyplot as plt\n",
    "\n",
    "import tensorflow as tf\n",
    "from tensorflow import keras\n",
    "from tensorflow.keras import layers\n",
    "\n",
    "import io\n",
    "import imageio\n",
    "from IPython.display import Image, display\n",
    "from ipywidgets import widgets, Layout, HBox\n",
    "import cv2"
   ]
  },
  {
   "cell_type": "code",
   "execution_count": 4,
   "id": "37bf2f84",
   "metadata": {},
   "outputs": [],
   "source": [
    "from skimage import color\n",
    "import pandas as pd \n",
    "from skimage import io"
   ]
  },
  {
   "cell_type": "code",
   "execution_count": 5,
   "id": "c486cc17",
   "metadata": {},
   "outputs": [
    {
     "data": {
      "text/plain": [
       "(400, 400, 3)"
      ]
     },
     "execution_count": 5,
     "metadata": {},
     "output_type": "execute_result"
    }
   ],
   "source": [
    "path = \"data/images/win/10/2575964.jpg\"\n",
    "img = cv2.imread(path)\n",
    "img.shape"
   ]
  },
  {
   "cell_type": "code",
   "execution_count": 6,
   "id": "f016e242",
   "metadata": {},
   "outputs": [
    {
     "data": {
      "text/plain": [
       "(64, 64, 3)"
      ]
     },
     "execution_count": 6,
     "metadata": {},
     "output_type": "execute_result"
    }
   ],
   "source": [
    "dim = (64,64)\n",
    "resized = cv2.resize(img, dim, interpolation = cv2.INTER_AREA)\n",
    "resized.shape"
   ]
  },
  {
   "cell_type": "code",
   "execution_count": 7,
   "id": "09c1f625",
   "metadata": {},
   "outputs": [],
   "source": [
    "ath = \"C:\\darsh\\Research Internship\\data\\milan\\loss\\10\\2575986.jpg\""
   ]
  },
  {
   "cell_type": "code",
   "execution_count": 8,
   "id": "149d297a",
   "metadata": {},
   "outputs": [
    {
     "ename": "AttributeError",
     "evalue": "type object 'Image' has no attribute 'open'",
     "output_type": "error",
     "traceback": [
      "\u001b[1;31m---------------------------------------------------------------------------\u001b[0m",
      "\u001b[1;31mAttributeError\u001b[0m                            Traceback (most recent call last)",
      "Input \u001b[1;32mIn [8]\u001b[0m, in \u001b[0;36m<cell line: 2>\u001b[1;34m()\u001b[0m\n\u001b[0;32m      1\u001b[0m \u001b[38;5;66;03m# Opens a image in RGB mode\u001b[39;00m\n\u001b[1;32m----> 2\u001b[0m im \u001b[38;5;241m=\u001b[39m \u001b[43mImage\u001b[49m\u001b[38;5;241;43m.\u001b[39;49m\u001b[43mopen\u001b[49m(ath)\n\u001b[0;32m      4\u001b[0m \u001b[38;5;66;03m# Size of the image in pixels (size of original image)\u001b[39;00m\n\u001b[0;32m      5\u001b[0m \u001b[38;5;66;03m# (This is not mandatory)\u001b[39;00m\n\u001b[0;32m      6\u001b[0m width, height \u001b[38;5;241m=\u001b[39m im\u001b[38;5;241m.\u001b[39msize\n",
      "\u001b[1;31mAttributeError\u001b[0m: type object 'Image' has no attribute 'open'"
     ]
    }
   ],
   "source": [
    "\n",
    "# Opens a image in RGB mode\n",
    "im = Image.open(ath)\n",
    " \n",
    "# Size of the image in pixels (size of original image)\n",
    "# (This is not mandatory)\n",
    "width, height = im.size\n",
    " \n",
    "# Setting the points for cropped image\n",
    "left = 87\n",
    "top = 78\n",
    "right = 578\n",
    "bottom = 568\n",
    " \n",
    "# Cropped image of above dimension\n",
    "# (It will not change original image)\n",
    "im1 = im.crop((left, top, right, bottom))\n",
    " \n",
    "# Shows the image in image viewer\n",
    "im1.show()"
   ]
  },
  {
   "cell_type": "code",
   "execution_count": 39,
   "id": "c32a217b",
   "metadata": {},
   "outputs": [],
   "source": [
    "input = \"data/images/win/10/2575973.jpg\"\n",
    "output = \"data/images/croped/win/10/2575964.jpg\""
   ]
  },
  {
   "cell_type": "code",
   "execution_count": 35,
   "id": "d85440ba",
   "metadata": {},
   "outputs": [],
   "source": [
    "def cropimage(imgpath):\n",
    "    im = Image.open(imgpath)\n",
    "    width, height = im.size\n",
    "    \n",
    "    left = 87\n",
    "    right = 578\n",
    "    top = 78\n",
    "    bottom = 568\n",
    "    \n",
    "    cimg = im.crop((left, top, right, bottom))\n",
    "    \n",
    "    cimg = cimg.save(imgpath)"
   ]
  },
  {
   "cell_type": "code",
   "execution_count": 40,
   "id": "4ca7a9da",
   "metadata": {},
   "outputs": [],
   "source": [
    "cropimage(input)"
   ]
  },
  {
   "cell_type": "code",
   "execution_count": 124,
   "id": "3da59145",
   "metadata": {},
   "outputs": [],
   "source": [
    "a = 10\n",
    "while a <= 90:\n",
    "    number = str(a)\n",
    "    imgpath = \"data/images/loss/\" + number + \"/2576295.jpg\"\n",
    "    cropimage(imgpath)\n",
    "    a = a + 10"
   ]
  },
  {
   "cell_type": "code",
   "execution_count": 94,
   "id": "d97a1eea",
   "metadata": {},
   "outputs": [
    {
     "ename": "TypeError",
     "evalue": "array() missing required argument 'object' (pos 0)",
     "output_type": "error",
     "traceback": [
      "\u001b[1;31m---------------------------------------------------------------------------\u001b[0m",
      "\u001b[1;31mTypeError\u001b[0m                                 Traceback (most recent call last)",
      "Input \u001b[1;32mIn [94]\u001b[0m, in \u001b[0;36m<cell line: 1>\u001b[1;34m()\u001b[0m\n\u001b[1;32m----> 1\u001b[0m traindata \u001b[38;5;241m=\u001b[39m \u001b[43mnp\u001b[49m\u001b[38;5;241;43m.\u001b[39;49m\u001b[43marray\u001b[49m\u001b[43m(\u001b[49m\u001b[43m)\u001b[49m\n",
      "\u001b[1;31mTypeError\u001b[0m: array() missing required argument 'object' (pos 0)"
     ]
    }
   ],
   "source": [
    "traindata = np.array()"
   ]
  },
  {
   "cell_type": "code",
   "execution_count": 127,
   "id": "bea84df5",
   "metadata": {},
   "outputs": [],
   "source": [
    "frames = []\n",
    "a = 10\n",
    "while a <= 90:\n",
    "    number = str(a)\n",
    "    imgpath = \"data/images/loss/\" + number + \"/2576295.jpg\"\n",
    "    image = cv2.imread(imgpath)\n",
    "    frames.append(image)\n",
    "    a = a + 10\n",
    "traindata.append(frames)"
   ]
  },
  {
   "cell_type": "code",
   "execution_count": 128,
   "id": "e467c4b4",
   "metadata": {},
   "outputs": [
    {
     "data": {
      "text/plain": [
       "33"
      ]
     },
     "execution_count": 128,
     "metadata": {},
     "output_type": "execute_result"
    }
   ],
   "source": [
    "len(traindata)"
   ]
  },
  {
   "cell_type": "code",
   "execution_count": 95,
   "id": "cff2b48c",
   "metadata": {},
   "outputs": [],
   "source": [
    "arr = [1,2,3,4,5,6]\n",
    "\n",
    "newarr = np.array(arr)"
   ]
  },
  {
   "cell_type": "code",
   "execution_count": 96,
   "id": "a53d6c52",
   "metadata": {},
   "outputs": [
    {
     "data": {
      "text/plain": [
       "numpy.ndarray"
      ]
     },
     "execution_count": 96,
     "metadata": {},
     "output_type": "execute_result"
    }
   ],
   "source": [
    "type(newarr)"
   ]
  },
  {
   "cell_type": "code",
   "execution_count": 129,
   "id": "0a191c6f",
   "metadata": {},
   "outputs": [],
   "source": [
    "temp = traindata"
   ]
  },
  {
   "cell_type": "code",
   "execution_count": 162,
   "id": "7361a6f3",
   "metadata": {},
   "outputs": [],
   "source": [
    "np.save(\"traindata\", traindata)"
   ]
  },
  {
   "cell_type": "code",
   "execution_count": 163,
   "id": "9a12ff14",
   "metadata": {},
   "outputs": [
    {
     "data": {
      "text/plain": [
       "(33, 9, 490, 491, 3)"
      ]
     },
     "execution_count": 163,
     "metadata": {},
     "output_type": "execute_result"
    }
   ],
   "source": [
    "temp1 = np.load(\"traindata.npy\")\n",
    "temp1.shape"
   ]
  },
  {
   "cell_type": "code",
   "execution_count": 130,
   "id": "6f9980ec",
   "metadata": {},
   "outputs": [
    {
     "data": {
      "text/plain": [
       "33"
      ]
     },
     "execution_count": 130,
     "metadata": {},
     "output_type": "execute_result"
    }
   ],
   "source": [
    "len(temp)"
   ]
  },
  {
   "cell_type": "code",
   "execution_count": 131,
   "id": "a6084794",
   "metadata": {},
   "outputs": [],
   "source": [
    "for i in range(len(traindata)):\n",
    "    traindata[i] = np.array(traindata[i])"
   ]
  },
  {
   "cell_type": "code",
   "execution_count": 132,
   "id": "46102377",
   "metadata": {},
   "outputs": [
    {
     "data": {
      "text/plain": [
       "(9, 490, 491, 3)"
      ]
     },
     "execution_count": 132,
     "metadata": {},
     "output_type": "execute_result"
    }
   ],
   "source": [
    "traindata[0].shape"
   ]
  },
  {
   "cell_type": "code",
   "execution_count": 133,
   "id": "69222849",
   "metadata": {},
   "outputs": [],
   "source": [
    "traindata = np.array(traindata)"
   ]
  },
  {
   "cell_type": "code",
   "execution_count": 134,
   "id": "7c1bcee1",
   "metadata": {},
   "outputs": [
    {
     "data": {
      "text/plain": [
       "(33, 9, 490, 491, 3)"
      ]
     },
     "execution_count": 134,
     "metadata": {},
     "output_type": "execute_result"
    }
   ],
   "source": [
    "traindata.shape"
   ]
  },
  {
   "cell_type": "code",
   "execution_count": 4,
   "id": "6e174f45",
   "metadata": {},
   "outputs": [
    {
     "data": {
      "text/plain": [
       "(33, 9, 490, 491, 3)"
      ]
     },
     "execution_count": 4,
     "metadata": {},
     "output_type": "execute_result"
    }
   ],
   "source": [
    "traindata = np.load(\"traindata.npy\")\n",
    "traindata.shape"
   ]
  },
  {
   "cell_type": "code",
   "execution_count": 19,
   "id": "ca3cd07a",
   "metadata": {},
   "outputs": [
    {
     "data": {
      "text/plain": [
       "33"
      ]
     },
     "execution_count": 19,
     "metadata": {},
     "output_type": "execute_result"
    }
   ],
   "source": [
    "len(traindata)"
   ]
  },
  {
   "cell_type": "code",
   "execution_count": 27,
   "id": "10067387",
   "metadata": {},
   "outputs": [],
   "source": [
    "newdata = []"
   ]
  },
  {
   "cell_type": "code",
   "execution_count": 77,
   "id": "2570cb17",
   "metadata": {},
   "outputs": [
    {
     "data": {
      "text/plain": [
       "array([32,  0, 20], dtype=uint8)"
      ]
     },
     "execution_count": 77,
     "metadata": {},
     "output_type": "execute_result"
    }
   ],
   "source": [
    "traindata[0][0][0][0]"
   ]
  },
  {
   "cell_type": "code",
   "execution_count": 76,
   "id": "71ca1a41",
   "metadata": {},
   "outputs": [
    {
     "data": {
      "text/plain": [
       "10"
      ]
     },
     "execution_count": 76,
     "metadata": {},
     "output_type": "execute_result"
    }
   ],
   "source": [
    "newdata[0][0][0][0]"
   ]
  },
  {
   "cell_type": "code",
   "execution_count": 75,
   "id": "e033e265",
   "metadata": {},
   "outputs": [],
   "source": [
    "np.save(\"newdata\", newdata)"
   ]
  },
  {
   "cell_type": "code",
   "execution_count": 3,
   "id": "df823aa6",
   "metadata": {},
   "outputs": [
    {
     "data": {
      "text/plain": [
       "(33, 9, 490, 491)"
      ]
     },
     "execution_count": 3,
     "metadata": {},
     "output_type": "execute_result"
    }
   ],
   "source": [
    "newdata = np.load(\"newdata.npy\")\n",
    "newdata.shape"
   ]
  },
  {
   "cell_type": "code",
   "execution_count": 12,
   "id": "3d3e0d3f",
   "metadata": {},
   "outputs": [
    {
     "data": {
      "text/plain": [
       "()"
      ]
     },
     "execution_count": 12,
     "metadata": {},
     "output_type": "execute_result"
    }
   ],
   "source": []
  },
  {
   "cell_type": "code",
   "execution_count": 9,
   "id": "4159f5db",
   "metadata": {},
   "outputs": [
    {
     "data": {
      "text/plain": [
       "(490, 491, 1)"
      ]
     },
     "execution_count": 9,
     "metadata": {},
     "output_type": "execute_result"
    }
   ],
   "source": [
    "datathree[0][0].shape"
   ]
  },
  {
   "cell_type": "code",
   "execution_count": 10,
   "id": "603bc50c",
   "metadata": {},
   "outputs": [],
   "source": [
    "datafour = []\n",
    "for i in range(len(datathree)):\n",
    "    data = []\n",
    "    for j in range(len(datathree[i])):\n",
    "        \n",
    "        temp = cv2.resize(datathree[i][j], dim, interpolation = cv2.INTER_AREA)\n",
    "        \n",
    "        data.append(temp)\n",
    "    datafour.append(data)\n",
    "            "
   ]
  },
  {
   "cell_type": "code",
   "execution_count": 15,
   "id": "d10bde36",
   "metadata": {},
   "outputs": [],
   "source": [
    "for i in range(len(datafour)):\n",
    "    datafour[i] = np.array(datafour[i])"
   ]
  },
  {
   "cell_type": "code",
   "execution_count": 16,
   "id": "2e1a20b1",
   "metadata": {},
   "outputs": [],
   "source": [
    "datafour = np.array(datafour)"
   ]
  },
  {
   "cell_type": "code",
   "execution_count": 17,
   "id": "70666e70",
   "metadata": {},
   "outputs": [
    {
     "data": {
      "text/plain": [
       "(33, 9, 64, 64)"
      ]
     },
     "execution_count": 17,
     "metadata": {},
     "output_type": "execute_result"
    }
   ],
   "source": [
    "datafour.shape"
   ]
  },
  {
   "cell_type": "code",
   "execution_count": 35,
   "id": "bea159a3",
   "metadata": {},
   "outputs": [],
   "source": [
    "np.save(\"datathree\", datathree)"
   ]
  },
  {
   "cell_type": "code",
   "execution_count": 3,
   "id": "eec66be2",
   "metadata": {},
   "outputs": [],
   "source": [
    "datathree = np.load(\"datathree.npy\")"
   ]
  },
  {
   "cell_type": "code",
   "execution_count": 23,
   "id": "ba203e31",
   "metadata": {},
   "outputs": [],
   "source": [
    "a = []\n",
    "for i in range(len(datafour)):\n",
    "    e = []\n",
    "    for j in range(len(datafour[i])):\n",
    "        d = []\n",
    "        for k in range(len(datafour[i][j])):\n",
    "            f = []\n",
    "            for l in range(len(datafour[i][j][k])):\n",
    "                temp = datafour[i][j][k][l]\n",
    "                l = []\n",
    "                l.append(temp)\n",
    "                f.append(l)\n",
    "            d.append(f)\n",
    "        e.append(d)\n",
    "    a.append(e)  "
   ]
  },
  {
   "cell_type": "code",
   "execution_count": 32,
   "id": "a07dc4d8",
   "metadata": {},
   "outputs": [],
   "source": [
    "\n",
    "for i in range(len(datafour)):\n",
    "    for j in range(len(datafour[i])):\n",
    "        for k in range(len(datafour[i][j])):\n",
    "            for l in range(len(datafour[i][j][k])):\n",
    "                a[i][j][k][l] = np.array(a[i][j][k][l])\n",
    "            a[i][j][k] = np.array(a[i][j][k])\n",
    "        a[i][j] = np.array(a[i][j])\n",
    "    a[i] = np.array(a[i])\n",
    "a = np.array(a)"
   ]
  },
  {
   "cell_type": "code",
   "execution_count": 33,
   "id": "26fc1c7d",
   "metadata": {},
   "outputs": [
    {
     "data": {
      "text/plain": [
       "(33, 9, 64, 64, 1)"
      ]
     },
     "execution_count": 33,
     "metadata": {},
     "output_type": "execute_result"
    }
   ],
   "source": [
    "a.shape"
   ]
  },
  {
   "cell_type": "code",
   "execution_count": 34,
   "id": "dc3e8c9f",
   "metadata": {},
   "outputs": [],
   "source": [
    "np.save(\"a\", a)"
   ]
  },
  {
   "cell_type": "code",
   "execution_count": 31,
   "id": "986a2e4f",
   "metadata": {},
   "outputs": [
    {
     "data": {
      "text/plain": [
       "list"
      ]
     },
     "execution_count": 31,
     "metadata": {},
     "output_type": "execute_result"
    }
   ],
   "source": [
    "type(a[0][0][0][0])"
   ]
  },
  {
   "cell_type": "code",
   "execution_count": 21,
   "id": "8cdbb099",
   "metadata": {},
   "outputs": [
    {
     "data": {
      "text/plain": [
       "1"
      ]
     },
     "execution_count": 21,
     "metadata": {},
     "output_type": "execute_result"
    }
   ],
   "source": [
    "len(temp1[0])"
   ]
  },
  {
   "cell_type": "code",
   "execution_count": 31,
   "id": "e390424b",
   "metadata": {},
   "outputs": [],
   "source": [
    "newdata = np.array(newdata)"
   ]
  },
  {
   "cell_type": "code",
   "execution_count": 6,
   "id": "e1262ac7",
   "metadata": {},
   "outputs": [
    {
     "data": {
      "text/plain": [
       "(33, 9, 490, 491, 1)"
      ]
     },
     "execution_count": 6,
     "metadata": {},
     "output_type": "execute_result"
    }
   ],
   "source": [
    "datathree = np.load(\"datathree.npy\")\n",
    "datathree.shape"
   ]
  },
  {
   "cell_type": "code",
   "execution_count": 7,
   "id": "90284678",
   "metadata": {},
   "outputs": [
    {
     "ename": "ValueError",
     "evalue": "could not broadcast input array from shape (64,64) into shape (490,491,1)",
     "output_type": "error",
     "traceback": [
      "\u001b[1;31m---------------------------------------------------------------------------\u001b[0m",
      "\u001b[1;31mValueError\u001b[0m                                Traceback (most recent call last)",
      "Input \u001b[1;32mIn [7]\u001b[0m, in \u001b[0;36m<cell line: 1>\u001b[1;34m()\u001b[0m\n\u001b[0;32m      1\u001b[0m \u001b[38;5;28;01mfor\u001b[39;00m i \u001b[38;5;129;01min\u001b[39;00m \u001b[38;5;28mrange\u001b[39m(\u001b[38;5;28mlen\u001b[39m(datathree)):\n\u001b[0;32m      2\u001b[0m     \u001b[38;5;28;01mfor\u001b[39;00m j \u001b[38;5;129;01min\u001b[39;00m \u001b[38;5;28mrange\u001b[39m(\u001b[38;5;28mlen\u001b[39m(datathree[i])):\n\u001b[1;32m----> 3\u001b[0m         datathree[i][j] \u001b[38;5;241m=\u001b[39m cv2\u001b[38;5;241m.\u001b[39mresize(datathree[i][j], dim, interpolation \u001b[38;5;241m=\u001b[39m cv2\u001b[38;5;241m.\u001b[39mINTER_AREA)\n",
      "\u001b[1;31mValueError\u001b[0m: could not broadcast input array from shape (64,64) into shape (490,491,1)"
     ]
    }
   ],
   "source": [
    "for i in range(len(datathree)):\n",
    "    for j in range(len(datathree[i])):\n",
    "        datathree[i][j] = cv2.resize(datathree[i][j], dim, interpolation = cv2.INTER_AREA)"
   ]
  },
  {
   "cell_type": "code",
   "execution_count": 35,
   "id": "657bc506",
   "metadata": {},
   "outputs": [],
   "source": [
    "def create_shifted_frames(data):\n",
    "    x = data[:, 0 : data.shape[1] - 1, :, :, :]\n",
    "    y = data[:, 1 : data.shape[1], :, :, :]\n",
    "    return x, y"
   ]
  },
  {
   "cell_type": "code",
   "execution_count": 36,
   "id": "16b2f07b",
   "metadata": {},
   "outputs": [],
   "source": [
    "indexes = np.arange(a.shape[0])\n",
    "np.random.shuffle(indexes)\n",
    "train_index = indexes[: int(0.9 * a.shape[0])]\n",
    "val_index = indexes[int(0.9 * a.shape[0]) :]\n",
    "train_dataset = a[train_index]\n",
    "val_dataset = a[val_index]"
   ]
  },
  {
   "cell_type": "code",
   "execution_count": 37,
   "id": "b8d18667",
   "metadata": {},
   "outputs": [
    {
     "data": {
      "text/plain": [
       "(29, 9, 64, 64, 1)"
      ]
     },
     "execution_count": 37,
     "metadata": {},
     "output_type": "execute_result"
    }
   ],
   "source": [
    "train_dataset.shape"
   ]
  },
  {
   "cell_type": "code",
   "execution_count": 38,
   "id": "38840573",
   "metadata": {},
   "outputs": [
    {
     "data": {
      "text/plain": [
       "(4, 9, 64, 64, 1)"
      ]
     },
     "execution_count": 38,
     "metadata": {},
     "output_type": "execute_result"
    }
   ],
   "source": [
    "val_dataset.shape"
   ]
  },
  {
   "cell_type": "code",
   "execution_count": 39,
   "id": "04e9839e",
   "metadata": {},
   "outputs": [],
   "source": [
    "x_train, y_train = create_shifted_frames(train_dataset)\n",
    "x_val, y_val = create_shifted_frames(val_dataset)"
   ]
  },
  {
   "cell_type": "code",
   "execution_count": 40,
   "id": "0edf3d44",
   "metadata": {},
   "outputs": [
    {
     "name": "stdout",
     "output_type": "stream",
     "text": [
      "Training Dataset Shapes: (29, 8, 64, 64, 1), (29, 8, 64, 64, 1)\n",
      "Validation Dataset Shapes: (4, 8, 64, 64, 1), (4, 8, 64, 64, 1)\n"
     ]
    }
   ],
   "source": [
    "print(\"Training Dataset Shapes: \" + str(x_train.shape) + \", \" + str(y_train.shape))\n",
    "print(\"Validation Dataset Shapes: \" + str(x_val.shape) + \", \" + str(y_val.shape))"
   ]
  },
  {
   "cell_type": "code",
   "execution_count": 41,
   "id": "cedfd1d3",
   "metadata": {},
   "outputs": [],
   "source": [
    "x_train = x_train/255\n",
    "y_train = y_train/255\n",
    "x_val = x_val/255\n",
    "y_val = y_val/255"
   ]
  },
  {
   "cell_type": "code",
   "execution_count": 42,
   "id": "943103d0",
   "metadata": {},
   "outputs": [
    {
     "data": {
      "text/plain": [
       "(29, 8, 64, 64, 1)"
      ]
     },
     "execution_count": 42,
     "metadata": {},
     "output_type": "execute_result"
    }
   ],
   "source": [
    "x_train.shape"
   ]
  },
  {
   "cell_type": "code",
   "execution_count": 43,
   "id": "cb8bc097",
   "metadata": {},
   "outputs": [
    {
     "data": {
      "text/plain": [
       "array([0.26666667])"
      ]
     },
     "execution_count": 43,
     "metadata": {},
     "output_type": "execute_result"
    }
   ],
   "source": [
    "x_train[0][0][0][0]"
   ]
  },
  {
   "cell_type": "code",
   "execution_count": 45,
   "id": "c933217e",
   "metadata": {},
   "outputs": [],
   "source": [
    "# Construct the input layer with no definite frame size.\n",
    "inp = layers.Input(shape=(None, *x_train.shape[2:]))\n",
    "\n",
    "# We will construct 3 `ConvLSTM2D` layers with batch normalization,\n",
    "# followed by a `Conv3D` layer for the spatiotemporal outputs.\n",
    "x = layers.ConvLSTM2D(\n",
    "    filters=64,\n",
    "    kernel_size=(5, 5),\n",
    "    padding=\"same\",\n",
    "    return_sequences=True,\n",
    "    activation=\"relu\",\n",
    ")(inp)\n",
    "x = layers.BatchNormalization()(x)\n",
    "x = layers.ConvLSTM2D(\n",
    "    filters=64,\n",
    "    kernel_size=(3, 3),\n",
    "    padding=\"same\",\n",
    "    return_sequences=True,\n",
    "    activation=\"relu\",\n",
    ")(x)\n",
    "x = layers.BatchNormalization()(x)\n",
    "x = layers.ConvLSTM2D(\n",
    "    filters=64,\n",
    "    kernel_size=(1, 1),\n",
    "    padding=\"same\",\n",
    "    return_sequences=True,\n",
    "    activation=\"relu\",\n",
    ")(x)\n",
    "x = layers.Conv3D(\n",
    "    filters=1, kernel_size=(3, 3, 3), activation=\"sigmoid\", padding=\"same\"\n",
    ")(x)\n",
    "\n",
    "# Next, we will build the complete model and compile it.\n",
    "model = keras.models.Model(inp, x)\n",
    "model.compile(\n",
    "    loss=keras.losses.binary_crossentropy, optimizer=keras.optimizers.Adam(),\n",
    ")"
   ]
  },
  {
   "cell_type": "code",
   "execution_count": 46,
   "id": "490464b4",
   "metadata": {},
   "outputs": [
    {
     "name": "stdout",
     "output_type": "stream",
     "text": [
      "Epoch 1/20\n",
      "6/6 [==============================] - 57s 9s/step - loss: 0.6562 - val_loss: 0.6922 - lr: 0.0010\n",
      "Epoch 2/20\n",
      "6/6 [==============================] - 48s 8s/step - loss: 0.6389 - val_loss: 0.6912 - lr: 0.0010\n",
      "Epoch 3/20\n",
      "6/6 [==============================] - 49s 8s/step - loss: 0.6294 - val_loss: 0.6907 - lr: 0.0010\n",
      "Epoch 4/20\n",
      "6/6 [==============================] - 49s 8s/step - loss: 0.6251 - val_loss: 0.6902 - lr: 0.0010\n",
      "Epoch 5/20\n",
      "6/6 [==============================] - 48s 8s/step - loss: 0.6235 - val_loss: 0.6895 - lr: 0.0010\n",
      "Epoch 6/20\n",
      "6/6 [==============================] - 48s 8s/step - loss: 0.6225 - val_loss: 0.6890 - lr: 0.0010\n",
      "Epoch 7/20\n",
      "6/6 [==============================] - 48s 8s/step - loss: 0.6216 - val_loss: 0.6881 - lr: 0.0010\n",
      "Epoch 8/20\n",
      "6/6 [==============================] - 49s 8s/step - loss: 0.6213 - val_loss: 0.6873 - lr: 0.0010\n",
      "Epoch 9/20\n",
      "6/6 [==============================] - 49s 8s/step - loss: 0.6210 - val_loss: 0.6868 - lr: 0.0010\n",
      "Epoch 10/20\n",
      "6/6 [==============================] - 48s 8s/step - loss: 0.6206 - val_loss: 0.6860 - lr: 0.0010\n",
      "Epoch 11/20\n",
      "6/6 [==============================] - 48s 8s/step - loss: 0.6204 - val_loss: 0.6855 - lr: 0.0010\n",
      "Epoch 12/20\n",
      "6/6 [==============================] - 48s 8s/step - loss: 0.6205 - val_loss: 0.6850 - lr: 0.0010\n",
      "Epoch 13/20\n",
      "6/6 [==============================] - 49s 8s/step - loss: 0.6200 - val_loss: 0.6843 - lr: 0.0010\n",
      "Epoch 14/20\n",
      "6/6 [==============================] - 48s 8s/step - loss: 0.6197 - val_loss: 0.6837 - lr: 0.0010\n",
      "Epoch 15/20\n",
      "6/6 [==============================] - 49s 8s/step - loss: 0.6194 - val_loss: 0.6830 - lr: 0.0010\n",
      "Epoch 16/20\n",
      "6/6 [==============================] - 48s 8s/step - loss: 0.6194 - val_loss: 0.6827 - lr: 0.0010\n",
      "Epoch 17/20\n",
      "6/6 [==============================] - 48s 8s/step - loss: 0.6192 - val_loss: 0.6821 - lr: 0.0010\n",
      "Epoch 18/20\n",
      "6/6 [==============================] - 49s 8s/step - loss: 0.6191 - val_loss: 0.6821 - lr: 0.0010\n",
      "Epoch 19/20\n",
      "6/6 [==============================] - 49s 8s/step - loss: 0.6191 - val_loss: 0.6817 - lr: 0.0010\n",
      "Epoch 20/20\n",
      "6/6 [==============================] - 48s 8s/step - loss: 0.6189 - val_loss: 0.6811 - lr: 0.0010\n"
     ]
    },
    {
     "data": {
      "text/plain": [
       "<keras.callbacks.History at 0x28f5618e640>"
      ]
     },
     "execution_count": 46,
     "metadata": {},
     "output_type": "execute_result"
    }
   ],
   "source": [
    "# Define some callbacks to improve training.\n",
    "early_stopping = keras.callbacks.EarlyStopping(monitor=\"val_loss\", patience=10)\n",
    "reduce_lr = keras.callbacks.ReduceLROnPlateau(monitor=\"val_loss\", patience=5)\n",
    "\n",
    "# Define modifiable training hyperparameters.\n",
    "epochs = 20\n",
    "batch_size = 5\n",
    "\n",
    "# Fit the model to the training data.\n",
    "model.fit(\n",
    "    x_train,\n",
    "    y_train,\n",
    "    batch_size=batch_size,\n",
    "    epochs=epochs,\n",
    "    validation_data=(x_val, y_val),\n",
    "    callbacks=[early_stopping, reduce_lr],\n",
    ")"
   ]
  },
  {
   "cell_type": "code",
   "execution_count": 52,
   "id": "5e11cd0c",
   "metadata": {},
   "outputs": [
    {
     "name": "stdout",
     "output_type": "stream",
     "text": [
      "1/1 [==============================] - 1s 830ms/step\n"
     ]
    }
   ],
   "source": [
    "acc = model.predict(x_val)"
   ]
  },
  {
   "cell_type": "code",
   "execution_count": 55,
   "id": "ced9c8f1",
   "metadata": {},
   "outputs": [],
   "source": [
    "y_true = []\n",
    "y_pred = []\n",
    "y_true.append(y_val[0]) \n",
    "y_pred.append(acc[0])"
   ]
  },
  {
   "cell_type": "code",
   "execution_count": 57,
   "id": "986c1400",
   "metadata": {},
   "outputs": [],
   "source": [
    "from sklearn.metrics import accuracy_score"
   ]
  },
  {
   "cell_type": "code",
   "execution_count": 58,
   "id": "9e874f1c",
   "metadata": {},
   "outputs": [
    {
     "ename": "ValueError",
     "evalue": "unknown is not supported",
     "output_type": "error",
     "traceback": [
      "\u001b[1;31m---------------------------------------------------------------------------\u001b[0m",
      "\u001b[1;31mValueError\u001b[0m                                Traceback (most recent call last)",
      "Input \u001b[1;32mIn [58]\u001b[0m, in \u001b[0;36m<cell line: 1>\u001b[1;34m()\u001b[0m\n\u001b[1;32m----> 1\u001b[0m acc \u001b[38;5;241m=\u001b[39m \u001b[43maccuracy_score\u001b[49m\u001b[43m(\u001b[49m\u001b[43my_true\u001b[49m\u001b[43m,\u001b[49m\u001b[43m \u001b[49m\u001b[43my_pred\u001b[49m\u001b[43m)\u001b[49m\n\u001b[0;32m      2\u001b[0m \u001b[38;5;28mprint\u001b[39m(\u001b[38;5;124m'\u001b[39m\u001b[38;5;124mAccuracy: \u001b[39m\u001b[38;5;132;01m%.3f\u001b[39;00m\u001b[38;5;124m'\u001b[39m \u001b[38;5;241m%\u001b[39m acc)\n",
      "File \u001b[1;32mC:\\darsh\\Research Internship\\research\\lib\\site-packages\\sklearn\\metrics\\_classification.py:211\u001b[0m, in \u001b[0;36maccuracy_score\u001b[1;34m(y_true, y_pred, normalize, sample_weight)\u001b[0m\n\u001b[0;32m    145\u001b[0m \u001b[38;5;124;03m\"\"\"Accuracy classification score.\u001b[39;00m\n\u001b[0;32m    146\u001b[0m \n\u001b[0;32m    147\u001b[0m \u001b[38;5;124;03mIn multilabel classification, this function computes subset accuracy:\u001b[39;00m\n\u001b[1;32m   (...)\u001b[0m\n\u001b[0;32m    207\u001b[0m \u001b[38;5;124;03m0.5\u001b[39;00m\n\u001b[0;32m    208\u001b[0m \u001b[38;5;124;03m\"\"\"\u001b[39;00m\n\u001b[0;32m    210\u001b[0m \u001b[38;5;66;03m# Compute accuracy for each possible representation\u001b[39;00m\n\u001b[1;32m--> 211\u001b[0m y_type, y_true, y_pred \u001b[38;5;241m=\u001b[39m \u001b[43m_check_targets\u001b[49m\u001b[43m(\u001b[49m\u001b[43my_true\u001b[49m\u001b[43m,\u001b[49m\u001b[43m \u001b[49m\u001b[43my_pred\u001b[49m\u001b[43m)\u001b[49m\n\u001b[0;32m    212\u001b[0m check_consistent_length(y_true, y_pred, sample_weight)\n\u001b[0;32m    213\u001b[0m \u001b[38;5;28;01mif\u001b[39;00m y_type\u001b[38;5;241m.\u001b[39mstartswith(\u001b[38;5;124m\"\u001b[39m\u001b[38;5;124mmultilabel\u001b[39m\u001b[38;5;124m\"\u001b[39m):\n",
      "File \u001b[1;32mC:\\darsh\\Research Internship\\research\\lib\\site-packages\\sklearn\\metrics\\_classification.py:104\u001b[0m, in \u001b[0;36m_check_targets\u001b[1;34m(y_true, y_pred)\u001b[0m\n\u001b[0;32m    102\u001b[0m \u001b[38;5;66;03m# No metrics support \"multiclass-multioutput\" format\u001b[39;00m\n\u001b[0;32m    103\u001b[0m \u001b[38;5;28;01mif\u001b[39;00m y_type \u001b[38;5;129;01mnot\u001b[39;00m \u001b[38;5;129;01min\u001b[39;00m [\u001b[38;5;124m\"\u001b[39m\u001b[38;5;124mbinary\u001b[39m\u001b[38;5;124m\"\u001b[39m, \u001b[38;5;124m\"\u001b[39m\u001b[38;5;124mmulticlass\u001b[39m\u001b[38;5;124m\"\u001b[39m, \u001b[38;5;124m\"\u001b[39m\u001b[38;5;124mmultilabel-indicator\u001b[39m\u001b[38;5;124m\"\u001b[39m]:\n\u001b[1;32m--> 104\u001b[0m     \u001b[38;5;28;01mraise\u001b[39;00m \u001b[38;5;167;01mValueError\u001b[39;00m(\u001b[38;5;124m\"\u001b[39m\u001b[38;5;132;01m{0}\u001b[39;00m\u001b[38;5;124m is not supported\u001b[39m\u001b[38;5;124m\"\u001b[39m\u001b[38;5;241m.\u001b[39mformat(y_type))\n\u001b[0;32m    106\u001b[0m \u001b[38;5;28;01mif\u001b[39;00m y_type \u001b[38;5;129;01min\u001b[39;00m [\u001b[38;5;124m\"\u001b[39m\u001b[38;5;124mbinary\u001b[39m\u001b[38;5;124m\"\u001b[39m, \u001b[38;5;124m\"\u001b[39m\u001b[38;5;124mmulticlass\u001b[39m\u001b[38;5;124m\"\u001b[39m]:\n\u001b[0;32m    107\u001b[0m     y_true \u001b[38;5;241m=\u001b[39m column_or_1d(y_true)\n",
      "\u001b[1;31mValueError\u001b[0m: unknown is not supported"
     ]
    }
   ],
   "source": [
    "acc = accuracy_score(y_true, y_pred)\n",
    "print('Accuracy: %.3f' % acc)"
   ]
  },
  {
   "cell_type": "code",
   "execution_count": 59,
   "id": "20d484f6",
   "metadata": {},
   "outputs": [
    {
     "data": {
      "text/plain": [
       "(9, 64, 64, 1)"
      ]
     },
     "execution_count": 59,
     "metadata": {},
     "output_type": "execute_result"
    }
   ],
   "source": [
    "example = val_dataset[np.random.choice(range(len(val_dataset)), size=1)[0]]\n",
    "example.shape"
   ]
  },
  {
   "cell_type": "code",
   "execution_count": 60,
   "id": "9cc1d583",
   "metadata": {},
   "outputs": [
    {
     "data": {
      "text/plain": [
       "(9, 64, 64, 1)"
      ]
     },
     "execution_count": 60,
     "metadata": {},
     "output_type": "execute_result"
    }
   ],
   "source": [
    "frames = example[:10, ...]\n",
    "frames.shape"
   ]
  },
  {
   "cell_type": "code",
   "execution_count": 61,
   "id": "83e51ecc",
   "metadata": {},
   "outputs": [
    {
     "data": {
      "text/plain": [
       "(0, 64, 64, 1)"
      ]
     },
     "execution_count": 61,
     "metadata": {},
     "output_type": "execute_result"
    }
   ],
   "source": [
    "original_frames = example[10:, ...]\n",
    "original_frames.shape"
   ]
  },
  {
   "cell_type": "code",
   "execution_count": 51,
   "id": "2269dbbb",
   "metadata": {},
   "outputs": [
    {
     "name": "stdout",
     "output_type": "stream",
     "text": [
      "1/1 [==============================] - 0s 497ms/step\n",
      "1/1 [==============================] - 1s 577ms/step\n",
      "1/1 [==============================] - 1s 653ms/step\n",
      "1/1 [==============================] - 1s 745ms/step\n",
      "1/1 [==============================] - 1s 834ms/step\n",
      "1/1 [==============================] - 1s 914ms/step\n",
      "1/1 [==============================] - 1s 990ms/step\n",
      "1/1 [==============================] - 1s 1s/step\n",
      "1/1 [==============================] - 1s 1s/step\n"
     ]
    },
    {
     "ename": "IndexError",
     "evalue": "index 0 is out of bounds for axis 0 with size 0",
     "output_type": "error",
     "traceback": [
      "\u001b[1;31m---------------------------------------------------------------------------\u001b[0m",
      "\u001b[1;31mIndexError\u001b[0m                                Traceback (most recent call last)",
      "Input \u001b[1;32mIn [51]\u001b[0m, in \u001b[0;36m<cell line: 22>\u001b[1;34m()\u001b[0m\n\u001b[0;32m     21\u001b[0m \u001b[38;5;66;03m# Plot the original frames.\u001b[39;00m\n\u001b[0;32m     22\u001b[0m \u001b[38;5;28;01mfor\u001b[39;00m idx, ax \u001b[38;5;129;01min\u001b[39;00m \u001b[38;5;28menumerate\u001b[39m(axes[\u001b[38;5;241m0\u001b[39m]):\n\u001b[1;32m---> 23\u001b[0m     ax\u001b[38;5;241m.\u001b[39mimshow(np\u001b[38;5;241m.\u001b[39msqueeze(\u001b[43moriginal_frames\u001b[49m\u001b[43m[\u001b[49m\u001b[43midx\u001b[49m\u001b[43m]\u001b[49m), cmap\u001b[38;5;241m=\u001b[39m\u001b[38;5;124m\"\u001b[39m\u001b[38;5;124mgray\u001b[39m\u001b[38;5;124m\"\u001b[39m)\n\u001b[0;32m     24\u001b[0m     ax\u001b[38;5;241m.\u001b[39mset_title(\u001b[38;5;124mf\u001b[39m\u001b[38;5;124m\"\u001b[39m\u001b[38;5;124mFrame \u001b[39m\u001b[38;5;132;01m{\u001b[39;00midx \u001b[38;5;241m+\u001b[39m \u001b[38;5;241m11\u001b[39m\u001b[38;5;132;01m}\u001b[39;00m\u001b[38;5;124m\"\u001b[39m)\n\u001b[0;32m     25\u001b[0m     ax\u001b[38;5;241m.\u001b[39maxis(\u001b[38;5;124m\"\u001b[39m\u001b[38;5;124moff\u001b[39m\u001b[38;5;124m\"\u001b[39m)\n",
      "\u001b[1;31mIndexError\u001b[0m: index 0 is out of bounds for axis 0 with size 0"
     ]
    },
    {
     "data": {
      "image/png": "[encoded data removed]",
      "text/plain": [
       "<Figure size 1440x288 with 20 Axes>"
      ]
     },
     "metadata": {
      "needs_background": "light"
     },
     "output_type": "display_data"
    }
   ],
   "source": [
    "# Select a random example from the validation dataset.\n",
    "example = val_dataset[np.random.choice(range(len(val_dataset)), size=1)[0]]\n",
    "\n",
    "# Pick the first/last ten frames from the example.\n",
    "frames = example[:10, ...]\n",
    "original_frames = example[10:, ...]\n",
    "\n",
    "# Predict a new set of 10 frames.\n",
    "for _ in range(9):\n",
    "    # Extract the model's prediction and post-process it.\n",
    "    new_prediction = model.predict(np.expand_dims(frames, axis=0))\n",
    "    new_prediction = np.squeeze(new_prediction, axis=0)\n",
    "    predicted_frame = np.expand_dims(new_prediction[-1, ...], axis=0)\n",
    "\n",
    "    # Extend the set of prediction frames.\n",
    "    frames = np.concatenate((frames, predicted_frame), axis=0)\n",
    "\n",
    "# Construct a figure for the original and new frames.\n",
    "fig, axes = plt.subplots(2, 10, figsize=(20, 4))\n",
    "\n",
    "# Plot the original frames.\n",
    "for idx, ax in enumerate(axes[0]):\n",
    "    ax.imshow(np.squeeze(original_frames[idx]), cmap=\"gray\")\n",
    "    ax.set_title(f\"Frame {idx + 11}\")\n",
    "    ax.axis(\"off\")\n",
    "\n",
    "# Plot the new frames.\n",
    "new_frames = frames[10:, ...]\n",
    "for idx, ax in enumerate(axes[1]):\n",
    "    ax.imshow(np.squeeze(new_frames[idx]), cmap=\"gray\")\n",
    "    ax.set_title(f\"Frame {idx + 11}\")\n",
    "    ax.axis(\"off\")\n",
    "\n",
    "# Display the figure.\n",
    "plt.show()"
   ]
  },
  {
   "cell_type": "code",
   "execution_count": null,
   "id": "9a38d51c",
   "metadata": {},
   "outputs": [],
   "source": [
    "e = pd.read_csv(\"data/events/events_European_Championship.json\")"
   ]
  },
  {
   "cell_type": "code",
   "execution_count": 27,
   "id": "ee5c09f1",
   "metadata": {},
   "outputs": [],
   "source": [
    "e= pd.read_json(\"data/events/events_World_Cup.json\")\n"
   ]
  },
  {
   "cell_type": "code",
   "execution_count": 5,
   "id": "bdc7af2e",
   "metadata": {},
   "outputs": [
    {
     "data": {
      "text/html": [
       "<div>\n",
       "<style scoped>\n",
       "    .dataframe tbody tr th:only-of-type {\n",
       "        vertical-align: middle;\n",
       "    }\n",
       "\n",
       "    .dataframe tbody tr th {\n",
       "        vertical-align: top;\n",
       "    }\n",
       "\n",
       "    .dataframe thead th {\n",
       "        text-align: right;\n",
       "    }\n",
       "</style>\n",
       "<table border=\"1\" class=\"dataframe\">\n",
       "  <thead>\n",
       "    <tr style=\"text-align: right;\">\n",
       "      <th></th>\n",
       "      <th>eventId</th>\n",
       "      <th>subEventName</th>\n",
       "      <th>tags</th>\n",
       "      <th>playerId</th>\n",
       "      <th>positions</th>\n",
       "      <th>matchId</th>\n",
       "      <th>eventName</th>\n",
       "      <th>teamId</th>\n",
       "      <th>matchPeriod</th>\n",
       "      <th>eventSec</th>\n",
       "      <th>subEventId</th>\n",
       "      <th>id</th>\n",
       "    </tr>\n",
       "  </thead>\n",
       "  <tbody>\n",
       "    <tr>\n",
       "      <th>0</th>\n",
       "      <td>8</td>\n",
       "      <td>Simple pass</td>\n",
       "      <td>[{'id': 1801}]</td>\n",
       "      <td>26010</td>\n",
       "      <td>[{'y': 48, 'x': 50}, {'y': 50, 'x': 47}]</td>\n",
       "      <td>1694390</td>\n",
       "      <td>Pass</td>\n",
       "      <td>4418</td>\n",
       "      <td>1H</td>\n",
       "      <td>1.255990</td>\n",
       "      <td>85</td>\n",
       "      <td>88178642</td>\n",
       "    </tr>\n",
       "    <tr>\n",
       "      <th>1</th>\n",
       "      <td>8</td>\n",
       "      <td>Simple pass</td>\n",
       "      <td>[{'id': 1801}]</td>\n",
       "      <td>3682</td>\n",
       "      <td>[{'y': 50, 'x': 47}, {'y': 48, 'x': 41}]</td>\n",
       "      <td>1694390</td>\n",
       "      <td>Pass</td>\n",
       "      <td>4418</td>\n",
       "      <td>1H</td>\n",
       "      <td>2.351908</td>\n",
       "      <td>85</td>\n",
       "      <td>88178643</td>\n",
       "    </tr>\n",
       "    <tr>\n",
       "      <th>2</th>\n",
       "      <td>8</td>\n",
       "      <td>Simple pass</td>\n",
       "      <td>[{'id': 1801}]</td>\n",
       "      <td>31528</td>\n",
       "      <td>[{'y': 48, 'x': 41}, {'y': 35, 'x': 32}]</td>\n",
       "      <td>1694390</td>\n",
       "      <td>Pass</td>\n",
       "      <td>4418</td>\n",
       "      <td>1H</td>\n",
       "      <td>3.241028</td>\n",
       "      <td>85</td>\n",
       "      <td>88178644</td>\n",
       "    </tr>\n",
       "    <tr>\n",
       "      <th>3</th>\n",
       "      <td>8</td>\n",
       "      <td>High pass</td>\n",
       "      <td>[{'id': 1802}]</td>\n",
       "      <td>7855</td>\n",
       "      <td>[{'y': 35, 'x': 32}, {'y': 6, 'x': 89}]</td>\n",
       "      <td>1694390</td>\n",
       "      <td>Pass</td>\n",
       "      <td>4418</td>\n",
       "      <td>1H</td>\n",
       "      <td>6.033681</td>\n",
       "      <td>83</td>\n",
       "      <td>88178645</td>\n",
       "    </tr>\n",
       "    <tr>\n",
       "      <th>4</th>\n",
       "      <td>1</td>\n",
       "      <td>Ground defending duel</td>\n",
       "      <td>[{'id': 702}, {'id': 1801}]</td>\n",
       "      <td>25437</td>\n",
       "      <td>[{'y': 6, 'x': 89}, {'y': 0, 'x': 85}]</td>\n",
       "      <td>1694390</td>\n",
       "      <td>Duel</td>\n",
       "      <td>4418</td>\n",
       "      <td>1H</td>\n",
       "      <td>13.143591</td>\n",
       "      <td>12</td>\n",
       "      <td>88178646</td>\n",
       "    </tr>\n",
       "  </tbody>\n",
       "</table>\n",
       "</div>"
      ],
      "text/plain": [
       "   eventId           subEventName                         tags  playerId  \\\n",
       "0        8            Simple pass               [{'id': 1801}]     26010   \n",
       "1        8            Simple pass               [{'id': 1801}]      3682   \n",
       "2        8            Simple pass               [{'id': 1801}]     31528   \n",
       "3        8              High pass               [{'id': 1802}]      7855   \n",
       "4        1  Ground defending duel  [{'id': 702}, {'id': 1801}]     25437   \n",
       "\n",
       "                                  positions  matchId eventName  teamId  \\\n",
       "0  [{'y': 48, 'x': 50}, {'y': 50, 'x': 47}]  1694390      Pass    4418   \n",
       "1  [{'y': 50, 'x': 47}, {'y': 48, 'x': 41}]  1694390      Pass    4418   \n",
       "2  [{'y': 48, 'x': 41}, {'y': 35, 'x': 32}]  1694390      Pass    4418   \n",
       "3   [{'y': 35, 'x': 32}, {'y': 6, 'x': 89}]  1694390      Pass    4418   \n",
       "4    [{'y': 6, 'x': 89}, {'y': 0, 'x': 85}]  1694390      Duel    4418   \n",
       "\n",
       "  matchPeriod   eventSec subEventId        id  \n",
       "0          1H   1.255990         85  88178642  \n",
       "1          1H   2.351908         85  88178643  \n",
       "2          1H   3.241028         85  88178644  \n",
       "3          1H   6.033681         83  88178645  \n",
       "4          1H  13.143591         12  88178646  "
      ]
     },
     "execution_count": 5,
     "metadata": {},
     "output_type": "execute_result"
    }
   ],
   "source": [
    "e.head()"
   ]
  },
  {
   "cell_type": "code",
   "execution_count": 8,
   "id": "16e66346",
   "metadata": {},
   "outputs": [],
   "source": [
    "time_event = e.loc[e['matchId'] == 3159]\n"
   ]
  },
  {
   "cell_type": "code",
   "execution_count": 9,
   "id": "fcbce34a",
   "metadata": {},
   "outputs": [
    {
     "data": {
      "text/html": [
       "<div>\n",
       "<style scoped>\n",
       "    .dataframe tbody tr th:only-of-type {\n",
       "        vertical-align: middle;\n",
       "    }\n",
       "\n",
       "    .dataframe tbody tr th {\n",
       "        vertical-align: top;\n",
       "    }\n",
       "\n",
       "    .dataframe thead th {\n",
       "        text-align: right;\n",
       "    }\n",
       "</style>\n",
       "<table border=\"1\" class=\"dataframe\">\n",
       "  <thead>\n",
       "    <tr style=\"text-align: right;\">\n",
       "      <th></th>\n",
       "      <th>eventId</th>\n",
       "      <th>subEventName</th>\n",
       "      <th>tags</th>\n",
       "      <th>playerId</th>\n",
       "      <th>positions</th>\n",
       "      <th>matchId</th>\n",
       "      <th>eventName</th>\n",
       "      <th>teamId</th>\n",
       "      <th>matchPeriod</th>\n",
       "      <th>eventSec</th>\n",
       "      <th>subEventId</th>\n",
       "      <th>id</th>\n",
       "    </tr>\n",
       "  </thead>\n",
       "  <tbody>\n",
       "  </tbody>\n",
       "</table>\n",
       "</div>"
      ],
      "text/plain": [
       "Empty DataFrame\n",
       "Columns: [eventId, subEventName, tags, playerId, positions, matchId, eventName, teamId, matchPeriod, eventSec, subEventId, id]\n",
       "Index: []"
      ]
     },
     "execution_count": 9,
     "metadata": {},
     "output_type": "execute_result"
    }
   ],
   "source": [
    "time_event.head()"
   ]
  },
  {
   "cell_type": "code",
   "execution_count": 28,
   "id": "609a0565",
   "metadata": {},
   "outputs": [],
   "source": [
    "h = e[\"teamId\"].unique()"
   ]
  },
  {
   "cell_type": "code",
   "execution_count": 11,
   "id": "437d435e",
   "metadata": {},
   "outputs": [
    {
     "name": "stdout",
     "output_type": "stream",
     "text": [
      "[ 4418 11944  8731  6697 14496 10682  2413 14358 10962 13869  3148 14622\n",
      "  4687  9598  1598 11555  7047  8274  3757  5629  9109 10451  7839  9905]\n"
     ]
    }
   ],
   "source": [
    "print(d)"
   ]
  },
  {
   "cell_type": "code",
   "execution_count": 14,
   "id": "8e65bba2",
   "metadata": {},
   "outputs": [
    {
     "name": "stdout",
     "output_type": "stream",
     "text": [
      "[ 1609  1631  1625  1651  1646  1610  1628  1673  1639  1623  1611  1633\n",
      "  1624  1613 10531  1619  1644  1612  1627  1659]\n"
     ]
    }
   ],
   "source": [
    "print(a)"
   ]
  },
  {
   "cell_type": "code",
   "execution_count": 17,
   "id": "d8dd1dae",
   "metadata": {},
   "outputs": [
    {
     "name": "stdout",
     "output_type": "stream",
     "text": [
      "[ 3799  3772  3770  3776  3779  3766  3804  3771  3777  3785 19830  3780\n",
      "  3787  3783  3789  3767  3775  3782  3795  3774]\n"
     ]
    }
   ],
   "source": [
    "print(b)"
   ]
  },
  {
   "cell_type": "code",
   "execution_count": 20,
   "id": "ec6b744c",
   "metadata": {},
   "outputs": [
    {
     "name": "stdout",
     "output_type": "stream",
     "text": [
      "[2446 2444 2443 2482 2457 2445 2453 2462 2454 2463 2449 2975 2481 2450\n",
      " 2455 2460 2447 2451]\n"
     ]
    }
   ],
   "source": [
    "print(c)"
   ]
  },
  {
   "cell_type": "code",
   "execution_count": 23,
   "id": "3bba7612",
   "metadata": {},
   "outputs": [
    {
     "name": "stdout",
     "output_type": "stream",
     "text": [
      "[3158 3172 3166 3185 3157 3197 3187 3194 3176 3161 3159 3173 3162 3204\n",
      " 3164 3219 3193 3315 3165 3163]\n"
     ]
    }
   ],
   "source": [
    "print(f)"
   ]
  },
  {
   "cell_type": "code",
   "execution_count": 26,
   "id": "bf6e0315",
   "metadata": {},
   "outputs": [
    {
     "name": "stdout",
     "output_type": "stream",
     "text": [
      "[682 695 687 692 698 678 756 679 691 680 701 683 676 684 675 677 674 714\n",
      " 696 712]\n"
     ]
    }
   ],
   "source": [
    "print(g)"
   ]
  },
  {
   "cell_type": "code",
   "execution_count": 29,
   "id": "c84ecf67",
   "metadata": {},
   "outputs": [
    {
     "name": "stdout",
     "output_type": "stream",
     "text": [
      "[16521 14358 15670 16129  1598  9905 16216 10840  8493  4418  7712 15594\n",
      "  7839 12274 16823  9598  6380  6697 17322 16871 15473  3148 14855  7047\n",
      " 17929  5629  2413 16276 19314 13869 12913 12430]\n"
     ]
    }
   ],
   "source": [
    "print(h)"
   ]
  },
  {
   "cell_type": "code",
   "execution_count": null,
   "id": "641f1382",
   "metadata": {},
   "outputs": [],
   "source": []
  }
 ],
 "metadata": {
  "kernelspec": {
   "display_name": "research",
   "language": "python",
   "name": "research"
  },
  "language_info": {
   "codemirror_mode": {
    "name": "ipython",
    "version": 3
   },
   "file_extension": ".py",
   "mimetype": "text/x-python",
   "name": "python",
   "nbconvert_exporter": "python",
   "pygments_lexer": "ipython3",
   "version": "3.9.7"
  }
 },
 "nbformat": 4,
 "nbformat_minor": 5
}
